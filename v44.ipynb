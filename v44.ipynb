{
 "cells": [
  {
   "cell_type": "code",
   "execution_count": 1,
   "id": "6cc9969d",
   "metadata": {},
   "outputs": [],
   "source": [
    "import gc\n",
    "import os\n",
    "import matplotlib.pyplot as plt\n",
    "import numpy as np\n",
    "import polars as pl\n",
    "os.environ['TF_CPP_MIN_LOG_LEVEL'] = '3' # suppress CUDA errors\n",
    "import tensorflow as tf\n",
    "from keras import mixed_precision, utils, layers, losses, optimizers, metrics, callbacks, Sequential\n",
    "from sklearn import model_selection\n",
    "\n",
    "mixed_precision.set_global_policy('mixed_float16') # https://keras.io/2/api/mixed_precision/policy/\n",
    "utils.set_random_seed(42)"
   ]
  },
  {
   "cell_type": "code",
   "execution_count": 2,
   "id": "0d915736",
   "metadata": {},
   "outputs": [
    {
     "data": {
      "text/html": [
       "<div><style>\n",
       ".dataframe > thead > tr,\n",
       ".dataframe > tbody > tr {\n",
       "  text-align: right;\n",
       "  white-space: pre-wrap;\n",
       "}\n",
       "</style>\n",
       "<small>shape: (8_990, 100)</small><table border=\"1\" class=\"dataframe\"><thead><tr><th>D1</th><th>D2</th><th>D3</th><th>D4</th><th>D5</th><th>D6</th><th>D7</th><th>D8</th><th>D9</th><th>E1</th><th>E10</th><th>E11</th><th>E12</th><th>E13</th><th>E14</th><th>E15</th><th>E16</th><th>E17</th><th>E18</th><th>E19</th><th>E2</th><th>E20</th><th>E3</th><th>E4</th><th>E5</th><th>E6</th><th>E7</th><th>E8</th><th>E9</th><th>I1</th><th>I2</th><th>I3</th><th>I4</th><th>I5</th><th>I6</th><th>I7</th><th>I8</th><th>&hellip;</th><th>P4</th><th>P5</th><th>P6</th><th>P7</th><th>P8</th><th>P9</th><th>S1</th><th>S10</th><th>S11</th><th>S12</th><th>S2</th><th>S3</th><th>S4</th><th>S5</th><th>S6</th><th>S7</th><th>S8</th><th>S9</th><th>V1</th><th>V10</th><th>V11</th><th>V12</th><th>V13</th><th>V2</th><th>V3</th><th>V4</th><th>V5</th><th>V6</th><th>V7</th><th>V8</th><th>V9</th><th>forward_returns</th><th>risk_free_rate</th><th>market_forward_excess_returns</th><th>lagged_forward_returns</th><th>lagged_risk_free_rate</th><th>lagged_market_forward_excess_returns</th></tr><tr><td>f64</td><td>f64</td><td>f64</td><td>f64</td><td>f64</td><td>f64</td><td>f64</td><td>f64</td><td>f64</td><td>f64</td><td>f64</td><td>f64</td><td>f64</td><td>f64</td><td>f64</td><td>f64</td><td>f64</td><td>f64</td><td>f64</td><td>f64</td><td>f64</td><td>f64</td><td>f64</td><td>f64</td><td>f64</td><td>f64</td><td>f64</td><td>f64</td><td>f64</td><td>f64</td><td>f64</td><td>f64</td><td>f64</td><td>f64</td><td>f64</td><td>f64</td><td>f64</td><td>&hellip;</td><td>f64</td><td>f64</td><td>f64</td><td>f64</td><td>f64</td><td>f64</td><td>f64</td><td>f64</td><td>f64</td><td>f64</td><td>f64</td><td>f64</td><td>f64</td><td>f64</td><td>f64</td><td>f64</td><td>f64</td><td>f64</td><td>f64</td><td>f64</td><td>f64</td><td>f64</td><td>f64</td><td>f64</td><td>f64</td><td>f64</td><td>f64</td><td>f64</td><td>f64</td><td>f64</td><td>f64</td><td>f64</td><td>f64</td><td>f64</td><td>f64</td><td>f64</td><td>f64</td></tr></thead><tbody><tr><td>0.0</td><td>0.0</td><td>0.0</td><td>1.0</td><td>1.0</td><td>0.0</td><td>0.0</td><td>0.0</td><td>1.0</td><td>0.0</td><td>0.0</td><td>0.0</td><td>0.0</td><td>0.0</td><td>0.0</td><td>0.0</td><td>0.0</td><td>0.0</td><td>0.0</td><td>0.0</td><td>0.0</td><td>0.0</td><td>0.0</td><td>0.0</td><td>0.0</td><td>0.0</td><td>0.0</td><td>0.0</td><td>0.0</td><td>0.0</td><td>0.0</td><td>0.0</td><td>0.0</td><td>0.0</td><td>0.0</td><td>0.0</td><td>0.0</td><td>&hellip;</td><td>0.0</td><td>0.0</td><td>0.0</td><td>0.0</td><td>0.0</td><td>0.0</td><td>0.0</td><td>0.0</td><td>0.0</td><td>0.0</td><td>0.0</td><td>0.0</td><td>0.0</td><td>0.0</td><td>0.0</td><td>0.0</td><td>0.0</td><td>0.0</td><td>0.0</td><td>0.0</td><td>0.0</td><td>0.0</td><td>0.0</td><td>0.0</td><td>0.0</td><td>0.0</td><td>0.0</td><td>0.0</td><td>0.0</td><td>0.0</td><td>0.0</td><td>-0.002421</td><td>0.000301</td><td>-0.003038</td><td>-0.008495</td><td>0.000303</td><td>-0.009114</td></tr><tr><td>0.0</td><td>0.0</td><td>0.0</td><td>1.0</td><td>1.0</td><td>0.0</td><td>0.0</td><td>0.0</td><td>1.0</td><td>0.0</td><td>0.0</td><td>0.0</td><td>0.0</td><td>0.0</td><td>0.0</td><td>0.0</td><td>0.0</td><td>0.0</td><td>0.0</td><td>0.0</td><td>0.0</td><td>0.0</td><td>0.0</td><td>0.0</td><td>0.0</td><td>0.0</td><td>0.0</td><td>0.0</td><td>0.0</td><td>0.0</td><td>0.0</td><td>0.0</td><td>0.0</td><td>0.0</td><td>0.0</td><td>0.0</td><td>0.0</td><td>&hellip;</td><td>0.0</td><td>0.0</td><td>0.0</td><td>0.0</td><td>0.0</td><td>0.0</td><td>0.0</td><td>0.0</td><td>0.0</td><td>0.0</td><td>0.0</td><td>0.0</td><td>0.0</td><td>0.0</td><td>0.0</td><td>0.0</td><td>0.0</td><td>0.0</td><td>0.0</td><td>0.0</td><td>0.0</td><td>0.0</td><td>0.0</td><td>0.0</td><td>0.0</td><td>0.0</td><td>0.0</td><td>0.0</td><td>0.0</td><td>0.0</td><td>0.0</td><td>-0.008495</td><td>0.000303</td><td>-0.009114</td><td>-0.009624</td><td>0.000301</td><td>-0.010243</td></tr><tr><td>0.0</td><td>0.0</td><td>0.0</td><td>1.0</td><td>0.0</td><td>0.0</td><td>0.0</td><td>0.0</td><td>1.0</td><td>0.0</td><td>0.0</td><td>0.0</td><td>0.0</td><td>0.0</td><td>0.0</td><td>0.0</td><td>0.0</td><td>0.0</td><td>0.0</td><td>0.0</td><td>0.0</td><td>0.0</td><td>0.0</td><td>0.0</td><td>0.0</td><td>0.0</td><td>0.0</td><td>0.0</td><td>0.0</td><td>0.0</td><td>0.0</td><td>0.0</td><td>0.0</td><td>0.0</td><td>0.0</td><td>0.0</td><td>0.0</td><td>&hellip;</td><td>0.0</td><td>0.0</td><td>0.0</td><td>0.0</td><td>0.0</td><td>0.0</td><td>0.0</td><td>0.0</td><td>0.0</td><td>0.0</td><td>0.0</td><td>0.0</td><td>0.0</td><td>0.0</td><td>0.0</td><td>0.0</td><td>0.0</td><td>0.0</td><td>0.0</td><td>0.0</td><td>0.0</td><td>0.0</td><td>0.0</td><td>0.0</td><td>0.0</td><td>0.0</td><td>0.0</td><td>0.0</td><td>0.0</td><td>0.0</td><td>0.0</td><td>-0.009624</td><td>0.000301</td><td>-0.010243</td><td>0.004662</td><td>0.000299</td><td>0.004046</td></tr><tr><td>0.0</td><td>0.0</td><td>0.0</td><td>1.0</td><td>0.0</td><td>0.0</td><td>0.0</td><td>0.0</td><td>0.0</td><td>0.0</td><td>0.0</td><td>0.0</td><td>0.0</td><td>0.0</td><td>0.0</td><td>0.0</td><td>0.0</td><td>0.0</td><td>0.0</td><td>0.0</td><td>0.0</td><td>0.0</td><td>0.0</td><td>0.0</td><td>0.0</td><td>0.0</td><td>0.0</td><td>0.0</td><td>0.0</td><td>0.0</td><td>0.0</td><td>0.0</td><td>0.0</td><td>0.0</td><td>0.0</td><td>0.0</td><td>0.0</td><td>&hellip;</td><td>0.0</td><td>0.0</td><td>0.0</td><td>0.0</td><td>0.0</td><td>0.0</td><td>0.0</td><td>0.0</td><td>0.0</td><td>0.0</td><td>0.0</td><td>0.0</td><td>0.0</td><td>0.0</td><td>0.0</td><td>0.0</td><td>0.0</td><td>0.0</td><td>0.0</td><td>0.0</td><td>0.0</td><td>0.0</td><td>0.0</td><td>0.0</td><td>0.0</td><td>0.0</td><td>0.0</td><td>0.0</td><td>0.0</td><td>0.0</td><td>0.0</td><td>0.004662</td><td>0.000299</td><td>0.004046</td><td>-0.011686</td><td>0.000299</td><td>-0.012301</td></tr><tr><td>0.0</td><td>0.0</td><td>0.0</td><td>1.0</td><td>0.0</td><td>0.0</td><td>0.0</td><td>0.0</td><td>0.0</td><td>0.0</td><td>0.0</td><td>0.0</td><td>0.0</td><td>0.0</td><td>0.0</td><td>0.0</td><td>0.0</td><td>0.0</td><td>0.0</td><td>0.0</td><td>0.0</td><td>0.0</td><td>0.0</td><td>0.0</td><td>0.0</td><td>0.0</td><td>0.0</td><td>0.0</td><td>0.0</td><td>0.0</td><td>0.0</td><td>0.0</td><td>0.0</td><td>0.0</td><td>0.0</td><td>0.0</td><td>0.0</td><td>&hellip;</td><td>0.0</td><td>0.0</td><td>0.0</td><td>0.0</td><td>0.0</td><td>0.0</td><td>0.0</td><td>0.0</td><td>0.0</td><td>0.0</td><td>0.0</td><td>0.0</td><td>0.0</td><td>0.0</td><td>0.0</td><td>0.0</td><td>0.0</td><td>0.0</td><td>0.0</td><td>0.0</td><td>0.0</td><td>0.0</td><td>0.0</td><td>0.0</td><td>0.0</td><td>0.0</td><td>0.0</td><td>0.0</td><td>0.0</td><td>0.0</td><td>0.0</td><td>-0.011686</td><td>0.000299</td><td>-0.012301</td><td>-0.006449</td><td>0.0003</td><td>-0.007066</td></tr><tr><td>&hellip;</td><td>&hellip;</td><td>&hellip;</td><td>&hellip;</td><td>&hellip;</td><td>&hellip;</td><td>&hellip;</td><td>&hellip;</td><td>&hellip;</td><td>&hellip;</td><td>&hellip;</td><td>&hellip;</td><td>&hellip;</td><td>&hellip;</td><td>&hellip;</td><td>&hellip;</td><td>&hellip;</td><td>&hellip;</td><td>&hellip;</td><td>&hellip;</td><td>&hellip;</td><td>&hellip;</td><td>&hellip;</td><td>&hellip;</td><td>&hellip;</td><td>&hellip;</td><td>&hellip;</td><td>&hellip;</td><td>&hellip;</td><td>&hellip;</td><td>&hellip;</td><td>&hellip;</td><td>&hellip;</td><td>&hellip;</td><td>&hellip;</td><td>&hellip;</td><td>&hellip;</td><td>&hellip;</td><td>&hellip;</td><td>&hellip;</td><td>&hellip;</td><td>&hellip;</td><td>&hellip;</td><td>&hellip;</td><td>&hellip;</td><td>&hellip;</td><td>&hellip;</td><td>&hellip;</td><td>&hellip;</td><td>&hellip;</td><td>&hellip;</td><td>&hellip;</td><td>&hellip;</td><td>&hellip;</td><td>&hellip;</td><td>&hellip;</td><td>&hellip;</td><td>&hellip;</td><td>&hellip;</td><td>&hellip;</td><td>&hellip;</td><td>&hellip;</td><td>&hellip;</td><td>&hellip;</td><td>&hellip;</td><td>&hellip;</td><td>&hellip;</td><td>&hellip;</td><td>&hellip;</td><td>&hellip;</td><td>&hellip;</td><td>&hellip;</td><td>&hellip;</td><td>&hellip;</td><td>&hellip;</td></tr><tr><td>0.0</td><td>0.0</td><td>0.0</td><td>0.0</td><td>0.0</td><td>0.0</td><td>0.0</td><td>0.0</td><td>0.0</td><td>1.565379</td><td>0.184524</td><td>0.01918</td><td>0.01918</td><td>0.005952</td><td>0.005952</td><td>0.911376</td><td>-0.083496</td><td>-0.572447</td><td>0.223638</td><td>-0.122314</td><td>1.20925</td><td>1.540116</td><td>1.655174</td><td>0.031415</td><td>0.33168</td><td>0.034722</td><td>0.038269</td><td>-0.301876</td><td>0.914683</td><td>0.27414</td><td>0.984115</td><td>0.080688</td><td>0.476521</td><td>0.597442</td><td>0.718254</td><td>0.238757</td><td>0.351852</td><td>&hellip;</td><td>0.51455</td><td>0.276769</td><td>-0.261326</td><td>0.811754</td><td>1.784929</td><td>0.039683</td><td>0.249933</td><td>0.273148</td><td>0.134921</td><td>0.634465</td><td>-0.446682</td><td>-0.052686</td><td>0.083995</td><td>0.055282</td><td>0.209656</td><td>0.409392</td><td>0.574661</td><td>0.748677</td><td>0.498677</td><td>-0.616395</td><td>0.561839</td><td>0.53373</td><td>-0.432282</td><td>0.785053</td><td>0.469577</td><td>0.837963</td><td>1.226772</td><td>0.822751</td><td>-0.707361</td><td>0.142857</td><td>-0.649616</td><td>0.002457</td><td>0.000155</td><td>0.00199</td><td>0.002312</td><td>0.000156</td><td>0.001845</td></tr><tr><td>0.0</td><td>0.0</td><td>0.0</td><td>0.0</td><td>0.0</td><td>0.0</td><td>0.0</td><td>0.0</td><td>0.0</td><td>1.562946</td><td>0.184193</td><td>0.018849</td><td>0.018849</td><td>0.005622</td><td>0.005622</td><td>0.911706</td><td>-0.083542</td><td>-0.57208</td><td>0.22291</td><td>-0.732397</td><td>1.225459</td><td>1.537761</td><td>1.672262</td><td>0.031085</td><td>0.331349</td><td>0.034392</td><td>0.038205</td><td>-0.301897</td><td>0.915013</td><td>0.269841</td><td>0.904453</td><td>0.073413</td><td>0.479167</td><td>0.605079</td><td>0.718254</td><td>0.220899</td><td>0.345238</td><td>&hellip;</td><td>0.379299</td><td>1.19926</td><td>-0.344274</td><td>0.690323</td><td>1.791596</td><td>0.037037</td><td>0.298533</td><td>0.933201</td><td>0.721561</td><td>1.211345</td><td>-0.11805</td><td>-0.249315</td><td>0.566799</td><td>0.10733</td><td>0.228175</td><td>0.409392</td><td>0.580932</td><td>0.37037</td><td>0.528439</td><td>-0.64204</td><td>0.587632</td><td>0.526455</td><td>-0.429506</td><td>0.767857</td><td>0.671958</td><td>0.837963</td><td>0.785877</td><td>0.805556</td><td>-0.715692</td><td>0.196098</td><td>-0.668289</td><td>0.002312</td><td>0.000156</td><td>0.001845</td><td>0.002891</td><td>0.000156</td><td>0.002424</td></tr><tr><td>0.0</td><td>0.0</td><td>1.0</td><td>0.0</td><td>0.0</td><td>0.0</td><td>0.0</td><td>0.0</td><td>0.0</td><td>1.56052</td><td>0.183862</td><td>0.018519</td><td>0.018519</td><td>0.005291</td><td>0.005291</td><td>0.912037</td><td>-0.083874</td><td>-0.572016</td><td>0.222211</td><td>-0.800465</td><td>1.247273</td><td>1.534742</td><td>1.695469</td><td>0.030754</td><td>0.331019</td><td>0.034061</td><td>0.038118</td><td>-0.301918</td><td>0.915344</td><td>0.273148</td><td>0.842295</td><td>0.074074</td><td>0.478836</td><td>0.611319</td><td>0.724868</td><td>0.223545</td><td>0.340608</td><td>&hellip;</td><td>0.375661</td><td>0.429471</td><td>-0.233374</td><td>-0.289766</td><td>1.792816</td><td>0.041005</td><td>0.371362</td><td>0.793651</td><td>0.689815</td><td>0.885178</td><td>-0.316882</td><td>-0.422374</td><td>0.631614</td><td>-0.02977</td><td>0.221892</td><td>0.409392</td><td>0.583556</td><td>0.477513</td><td>0.599206</td><td>-0.638658</td><td>0.394841</td><td>0.433532</td><td>-0.425462</td><td>0.734127</td><td>0.481481</td><td>0.787698</td><td>0.834898</td><td>0.823413</td><td>-0.723949</td><td>0.133929</td><td>-0.670946</td><td>0.002891</td><td>0.000156</td><td>0.002424</td><td>0.00831</td><td>0.000156</td><td>0.007843</td></tr><tr><td>0.0</td><td>0.0</td><td>0.0</td><td>0.0</td><td>0.0</td><td>0.0</td><td>0.0</td><td>0.0</td><td>0.0</td><td>1.558102</td><td>0.183532</td><td>0.018188</td><td>0.018188</td><td>0.00496</td><td>0.00496</td><td>0.912368</td><td>-0.084206</td><td>-0.571952</td><td>0.221513</td><td>-0.596939</td><td>1.271926</td><td>1.53234</td><td>1.721692</td><td>0.030423</td><td>0.330688</td><td>0.03373</td><td>0.037647</td><td>-0.301939</td><td>0.915675</td><td>0.272817</td><td>0.858582</td><td>0.082011</td><td>0.478505</td><td>0.604658</td><td>0.719577</td><td>0.262566</td><td>0.353836</td><td>&hellip;</td><td>0.068783</td><td>0.044888</td><td>-0.269862</td><td>0.423268</td><td>1.792934</td><td>0.046958</td><td>0.41161</td><td>0.011905</td><td>0.026455</td><td>-0.001785</td><td>-0.317961</td><td>-0.608348</td><td>0.066138</td><td>-0.001594</td><td>0.259921</td><td>0.409392</td><td>0.63009</td><td>0.915344</td><td>0.462302</td><td>-0.626927</td><td>0.326389</td><td>0.39418</td><td>-0.38517</td><td>0.695106</td><td>0.655423</td><td>0.78373</td><td>0.994026</td><td>0.851852</td><td>-0.684937</td><td>0.101852</td><td>-0.646265</td><td>0.00831</td><td>0.000156</td><td>0.007843</td><td>0.000099</td><td>0.000156</td><td>-0.000368</td></tr><tr><td>0.0</td><td>0.0</td><td>0.0</td><td>0.0</td><td>0.0</td><td>0.0</td><td>0.0</td><td>0.0</td><td>0.0</td><td>1.55569</td><td>0.183201</td><td>0.017857</td><td>0.017857</td><td>0.00463</td><td>0.00463</td><td>0.912698</td><td>-0.084538</td><td>-0.571888</td><td>0.220814</td><td>-0.747066</td><td>1.312626</td><td>1.529875</td><td>1.765317</td><td>0.030093</td><td>0.330357</td><td>0.033399</td><td>0.037561</td><td>-0.267677</td><td>0.916005</td><td>0.305886</td><td>0.822594</td><td>0.080688</td><td>0.478175</td><td>0.603072</td><td>0.705688</td><td>0.263889</td><td>0.356481</td><td>&hellip;</td><td>0.244378</td><td>0.306917</td><td>-0.177546</td><td>1.885541</td><td>1.796492</td><td>0.047619</td><td>0.410794</td><td>0.351852</td><td>0.070767</td><td>0.257443</td><td>0.011109</td><td>-0.64248</td><td>0.170635</td><td>-0.105022</td><td>0.354167</td><td>0.409392</td><td>0.629295</td><td>0.771825</td><td>0.318783</td><td>-0.66805</td><td>0.12963</td><td>0.37004</td><td>-0.451308</td><td>0.66336</td><td>0.066799</td><td>0.78373</td><td>1.068037</td><td>0.87963</td><td>-0.764806</td><td>0.079034</td><td>-0.705662</td><td>0.000099</td><td>0.000156</td><td>-0.000368</td><td>0.0</td><td>0.0</td><td>0.0</td></tr></tbody></table></div>"
      ],
      "text/plain": [
       "shape: (8_990, 100)\n",
       "┌─────┬─────┬─────┬─────┬───┬─────────────────┬─────────────────┬─────────────────┬────────────────┐\n",
       "│ D1  ┆ D2  ┆ D3  ┆ D4  ┆ … ┆ market_forward_ ┆ lagged_forward_ ┆ lagged_risk_fre ┆ lagged_market_ │\n",
       "│ --- ┆ --- ┆ --- ┆ --- ┆   ┆ excess_returns  ┆ returns         ┆ e_rate          ┆ forward_excess │\n",
       "│ f64 ┆ f64 ┆ f64 ┆ f64 ┆   ┆ ---             ┆ ---             ┆ ---             ┆ _r…            │\n",
       "│     ┆     ┆     ┆     ┆   ┆ f64             ┆ f64             ┆ f64             ┆ ---            │\n",
       "│     ┆     ┆     ┆     ┆   ┆                 ┆                 ┆                 ┆ f64            │\n",
       "╞═════╪═════╪═════╪═════╪═══╪═════════════════╪═════════════════╪═════════════════╪════════════════╡\n",
       "│ 0.0 ┆ 0.0 ┆ 0.0 ┆ 1.0 ┆ … ┆ -0.003038       ┆ -0.008495       ┆ 0.000303        ┆ -0.009114      │\n",
       "│ 0.0 ┆ 0.0 ┆ 0.0 ┆ 1.0 ┆ … ┆ -0.009114       ┆ -0.009624       ┆ 0.000301        ┆ -0.010243      │\n",
       "│ 0.0 ┆ 0.0 ┆ 0.0 ┆ 1.0 ┆ … ┆ -0.010243       ┆ 0.004662        ┆ 0.000299        ┆ 0.004046       │\n",
       "│ 0.0 ┆ 0.0 ┆ 0.0 ┆ 1.0 ┆ … ┆ 0.004046        ┆ -0.011686       ┆ 0.000299        ┆ -0.012301      │\n",
       "│ 0.0 ┆ 0.0 ┆ 0.0 ┆ 1.0 ┆ … ┆ -0.012301       ┆ -0.006449       ┆ 0.0003          ┆ -0.007066      │\n",
       "│ …   ┆ …   ┆ …   ┆ …   ┆ … ┆ …               ┆ …               ┆ …               ┆ …              │\n",
       "│ 0.0 ┆ 0.0 ┆ 0.0 ┆ 0.0 ┆ … ┆ 0.00199         ┆ 0.002312        ┆ 0.000156        ┆ 0.001845       │\n",
       "│ 0.0 ┆ 0.0 ┆ 0.0 ┆ 0.0 ┆ … ┆ 0.001845        ┆ 0.002891        ┆ 0.000156        ┆ 0.002424       │\n",
       "│ 0.0 ┆ 0.0 ┆ 1.0 ┆ 0.0 ┆ … ┆ 0.002424        ┆ 0.00831         ┆ 0.000156        ┆ 0.007843       │\n",
       "│ 0.0 ┆ 0.0 ┆ 0.0 ┆ 0.0 ┆ … ┆ 0.007843        ┆ 0.000099        ┆ 0.000156        ┆ -0.000368      │\n",
       "│ 0.0 ┆ 0.0 ┆ 0.0 ┆ 0.0 ┆ … ┆ -0.000368       ┆ 0.0             ┆ 0.0             ┆ 0.0            │\n",
       "└─────┴─────┴─────┴─────┴───┴─────────────────┴─────────────────┴─────────────────┴────────────────┘"
      ]
     },
     "execution_count": 2,
     "metadata": {},
     "output_type": "execute_result"
    }
   ],
   "source": [
    "data = pl.read_csv('train.csv').drop('date_id').with_columns(\n",
    "    pl.all().cast(pl.Float64, strict=False),\n",
    "    pl.col('forward_returns').shift(-1).alias('lagged_forward_returns'),\n",
    "    pl.col('risk_free_rate').shift(-1).alias('lagged_risk_free_rate'),\n",
    "    pl.col('market_forward_excess_returns').shift(-1).alias('lagged_market_forward_excess_returns'),\n",
    ").fill_null(0)\n",
    "data"
   ]
  },
  {
   "cell_type": "code",
   "execution_count": 3,
   "id": "6dc66e53",
   "metadata": {},
   "outputs": [],
   "source": [
    "MAX_SIGNAL = 1.0\n",
    "MIN_SIGNAL = 0.0\n",
    "MID_SIGNAL = 0.5\n",
    "OUTPUT_ACTIVATION = 'sigmoid'\n",
    "MODEL_NAME = 'v44'\n",
    "MAX_EPOCHS = 20000\n",
    "MIN_EPOCHS = 5000"
   ]
  },
  {
   "cell_type": "code",
   "execution_count": 4,
   "id": "5f6e93aa",
   "metadata": {},
   "outputs": [
    {
     "data": {
      "text/plain": [
       "array([0., 0., 0., ..., 1., 1., 0.], shape=(8990,))"
      ]
     },
     "execution_count": 4,
     "metadata": {},
     "output_type": "execute_result"
    }
   ],
   "source": [
    "targets = np.where(data['forward_returns'] > data['risk_free_rate'], MAX_SIGNAL, MIN_SIGNAL)\n",
    "targets"
   ]
  },
  {
   "cell_type": "code",
   "execution_count": 5,
   "id": "46f3ce97",
   "metadata": {},
   "outputs": [
    {
     "data": {
      "text/plain": [
       "array([[ 0.00000000e+00,  0.00000000e+00,  0.00000000e+00, ...,\n",
       "        -8.49467704e-03,  3.02777778e-04, -9.11404562e-03],\n",
       "       [ 0.00000000e+00,  0.00000000e+00,  0.00000000e+00, ...,\n",
       "        -9.62447844e-03,  3.01190476e-04, -1.02425375e-02],\n",
       "       [ 0.00000000e+00,  0.00000000e+00,  0.00000000e+00, ...,\n",
       "         4.66239748e-03,  2.99206349e-04,  4.04620350e-03],\n",
       "       ...,\n",
       "       [ 0.00000000e+00,  0.00000000e+00,  1.00000000e+00, ...,\n",
       "         8.31020684e-03,  1.55952381e-04,  7.84287397e-03],\n",
       "       [ 0.00000000e+00,  0.00000000e+00,  0.00000000e+00, ...,\n",
       "         9.88397731e-05,  1.55873016e-04, -3.68167698e-04],\n",
       "       [ 0.00000000e+00,  0.00000000e+00,  0.00000000e+00, ...,\n",
       "         0.00000000e+00,  0.00000000e+00,  0.00000000e+00]],\n",
       "      shape=(8990, 97))"
      ]
     },
     "execution_count": 5,
     "metadata": {},
     "output_type": "execute_result"
    }
   ],
   "source": [
    "inputs = data.drop(['forward_returns', 'risk_free_rate', 'market_forward_excess_returns']).to_numpy()\n",
    "inputs"
   ]
  },
  {
   "cell_type": "code",
   "execution_count": 6,
   "id": "ab9ac7d8",
   "metadata": {},
   "outputs": [],
   "source": [
    "def hull_composite_loss(y_true, y_pred):\n",
    "    penalties = [\n",
    "        5.0 * losses.binary_crossentropy(y_true, y_pred, from_logits=True, label_smoothing=0.3),\n",
    "        5.0 * tf.reduce_mean(tf.maximum(0.0, y_pred - y_true)), # (harshly) punishes false positives\n",
    "        5.0 * tf.reduce_mean(tf.maximum(0.0, y_true - y_pred)), # (harshly) punishes false negatives\n",
    "        1.0 * tf.reduce_mean(tf.square(tf.maximum(0.0, MIN_SIGNAL - y_pred))), # punishes values below min signal\n",
    "        1.0 * tf.reduce_mean(tf.square(tf.maximum(0.0, y_pred - MAX_SIGNAL))), # punishes values above max signal\n",
    "        # 1.0 * tf.reduce_mean(tf.square(1.0 / (tf.abs(y_pred - MID_SIGNAL) + 1e7))), # punishes indecision (predictions halfway between min and max signal)\n",
    "        # 1.0 / (tf.math.reduce_variance(y_pred) + 1e7), # punishes guessing constant or near-constant values\n",
    "        # 1.0 / (tf.math.reduce_std(y_pred) + 1e7), # also punishes guessing constant or near-constant values\n",
    "    ]\n",
    "    return sum(penalties)"
   ]
  },
  {
   "cell_type": "code",
   "execution_count": 7,
   "id": "de8ee122",
   "metadata": {},
   "outputs": [
    {
     "data": {
      "text/plain": [
       "97"
      ]
     },
     "execution_count": 7,
     "metadata": {},
     "output_type": "execute_result"
    }
   ],
   "source": [
    "N_FEATURES = inputs.shape[-1]\n",
    "N_FEATURES"
   ]
  },
  {
   "cell_type": "code",
   "execution_count": 8,
   "id": "27f8c6b6",
   "metadata": {},
   "outputs": [
    {
     "name": "stderr",
     "output_type": "stream",
     "text": [
      "WARNING: All log messages before absl::InitializeLog() is called are written to STDERR\n",
      "I0000 00:00:1759958124.590502  631662 gpu_device.cc:2020] Created device /job:localhost/replica:0/task:0/device:GPU:0 with 9410 MB memory:  -> device: 0, name: NVIDIA GeForce RTX 3060, pci bus id: 0000:01:00.0, compute capability: 8.6\n",
      "I0000 00:00:1759958124.590894  631662 gpu_device.cc:2020] Created device /job:localhost/replica:0/task:0/device:GPU:1 with 4723 MB memory:  -> device: 1, name: NVIDIA GeForce GTX 1660 SUPER, pci bus id: 0000:06:00.0, compute capability: 7.5\n"
     ]
    }
   ],
   "source": [
    "model = Sequential([\n",
    "    layers.Input([N_FEATURES]),\n",
    "    layers.Dropout(0.1),\n",
    "    layers.BatchNormalization(),\n",
    "    layers.Dense(N_FEATURES),\n",
    "    layers.Dropout(0.1),\n",
    "    layers.BatchNormalization(),\n",
    "    layers.Dense(N_FEATURES),\n",
    "    layers.Dropout(0.1),\n",
    "    layers.BatchNormalization(),\n",
    "    layers.Dense(int(2 * N_FEATURES // 3)),\n",
    "    layers.Dropout(0.1),\n",
    "    layers.BatchNormalization(),\n",
    "    layers.Dense(int(2 * N_FEATURES // 3)),\n",
    "    layers.Dropout(0.1),\n",
    "    layers.BatchNormalization(),\n",
    "    layers.Dense(int(4 * N_FEATURES // 9)),\n",
    "    layers.Dropout(0.1),\n",
    "    layers.BatchNormalization(),\n",
    "    layers.Dense(int(4 * N_FEATURES // 9)),\n",
    "    layers.Dropout(0.1),\n",
    "    layers.BatchNormalization(),\n",
    "    layers.Dense(int(16 * N_FEATURES // 81)),\n",
    "    layers.Dropout(0.1),\n",
    "    layers.BatchNormalization(),\n",
    "    layers.Dense(int(16 * N_FEATURES // 81)),\n",
    "    layers.Dropout(0.1),\n",
    "    layers.BatchNormalization(),\n",
    "    layers.Dense(1, activation=OUTPUT_ACTIVATION)\n",
    "], name=MODEL_NAME)\n",
    "\n",
    "model.compile(loss=hull_composite_loss, optimizer=optimizers.Adamax(), metrics=[metrics.MeanAbsoluteError()])"
   ]
  },
  {
   "cell_type": "code",
   "execution_count": 9,
   "id": "a99afc3e",
   "metadata": {},
   "outputs": [
    {
     "name": "stderr",
     "output_type": "stream",
     "text": [
      "I0000 00:00:1759958131.840635  631830 device_compiler.h:196] Compiled cluster using XLA!  This line is logged at most once for the lifetime of the process.\n"
     ]
    },
    {
     "ename": "KeyboardInterrupt",
     "evalue": "",
     "output_type": "error",
     "traceback": [
      "\u001b[31m---------------------------------------------------------------------------\u001b[39m",
      "\u001b[31mKeyboardInterrupt\u001b[39m                         Traceback (most recent call last)",
      "\u001b[36mCell\u001b[39m\u001b[36m \u001b[39m\u001b[32mIn[9]\u001b[39m\u001b[32m, line 2\u001b[39m\n\u001b[32m      1\u001b[39m \u001b[38;5;28;01mfor\u001b[39;00m k, (i_train, i_val) \u001b[38;5;129;01min\u001b[39;00m \u001b[38;5;28menumerate\u001b[39m(model_selection.TimeSeriesSplit().split(inputs)):\n\u001b[32m----> \u001b[39m\u001b[32m2\u001b[39m     \u001b[43mmodel\u001b[49m\u001b[43m.\u001b[49m\u001b[43mfit\u001b[49m\u001b[43m(\u001b[49m\u001b[43minputs\u001b[49m\u001b[43m[\u001b[49m\u001b[43mi_train\u001b[49m\u001b[43m]\u001b[49m\u001b[43m,\u001b[49m\u001b[43m \u001b[49m\u001b[43mtargets\u001b[49m\u001b[43m[\u001b[49m\u001b[43mi_train\u001b[49m\u001b[43m]\u001b[49m\u001b[43m,\u001b[49m\u001b[43m \u001b[49m\u001b[43mepochs\u001b[49m\u001b[43m=\u001b[49m\u001b[43mMAX_EPOCHS\u001b[49m\u001b[43m,\u001b[49m\u001b[43m \u001b[49m\u001b[43mvalidation_data\u001b[49m\u001b[43m=\u001b[49m\u001b[43m(\u001b[49m\u001b[43minputs\u001b[49m\u001b[43m[\u001b[49m\u001b[43mi_val\u001b[49m\u001b[43m]\u001b[49m\u001b[43m,\u001b[49m\u001b[43m \u001b[49m\u001b[43mtargets\u001b[49m\u001b[43m[\u001b[49m\u001b[43mi_val\u001b[49m\u001b[43m]\u001b[49m\u001b[43m)\u001b[49m\u001b[43m,\u001b[49m\u001b[43m \u001b[49m\u001b[43mverbose\u001b[49m\u001b[43m=\u001b[49m\u001b[32;43m0\u001b[39;49m\u001b[43m,\u001b[49m\n\u001b[32m      3\u001b[39m \u001b[43m              \u001b[49m\u001b[43mcallbacks\u001b[49m\u001b[43m=\u001b[49m\u001b[43m[\u001b[49m\u001b[43mcallbacks\u001b[49m\u001b[43m.\u001b[49m\u001b[43mEarlyStopping\u001b[49m\u001b[43m(\u001b[49m\u001b[43mpatience\u001b[49m\u001b[43m=\u001b[49m\u001b[43mMIN_EPOCHS\u001b[49m\u001b[43m,\u001b[49m\u001b[43m \u001b[49m\u001b[43mrestore_best_weights\u001b[49m\u001b[43m=\u001b[49m\u001b[38;5;28;43;01mTrue\u001b[39;49;00m\u001b[43m)\u001b[49m\u001b[43m,\u001b[49m\u001b[43m \u001b[49m\u001b[43mcallbacks\u001b[49m\u001b[43m.\u001b[49m\u001b[43mTerminateOnNaN\u001b[49m\u001b[43m(\u001b[49m\u001b[43m)\u001b[49m\u001b[43m]\u001b[49m\u001b[43m)\u001b[49m\n\u001b[32m      4\u001b[39m     model.save(\u001b[33mf\u001b[39m\u001b[33m'\u001b[39m\u001b[33m.models/\u001b[39m\u001b[38;5;132;01m{\u001b[39;00mmodel.name\u001b[38;5;132;01m}\u001b[39;00m\u001b[33m.keras\u001b[39m\u001b[33m'\u001b[39m)\n\u001b[32m      5\u001b[39m     \u001b[38;5;28;01mwhile\u001b[39;00m gc.collect() > \u001b[32m0\u001b[39m: \u001b[38;5;28;01mpass\u001b[39;00m\n",
      "\u001b[36mFile \u001b[39m\u001b[32m/mnt/Data/Repos/hull-tactical-market-prediction/.cuda/lib/python3.12/site-packages/keras/src/utils/traceback_utils.py:117\u001b[39m, in \u001b[36mfilter_traceback.<locals>.error_handler\u001b[39m\u001b[34m(*args, **kwargs)\u001b[39m\n\u001b[32m    115\u001b[39m filtered_tb = \u001b[38;5;28;01mNone\u001b[39;00m\n\u001b[32m    116\u001b[39m \u001b[38;5;28;01mtry\u001b[39;00m:\n\u001b[32m--> \u001b[39m\u001b[32m117\u001b[39m     \u001b[38;5;28;01mreturn\u001b[39;00m \u001b[43mfn\u001b[49m\u001b[43m(\u001b[49m\u001b[43m*\u001b[49m\u001b[43margs\u001b[49m\u001b[43m,\u001b[49m\u001b[43m \u001b[49m\u001b[43m*\u001b[49m\u001b[43m*\u001b[49m\u001b[43mkwargs\u001b[49m\u001b[43m)\u001b[49m\n\u001b[32m    118\u001b[39m \u001b[38;5;28;01mexcept\u001b[39;00m \u001b[38;5;167;01mException\u001b[39;00m \u001b[38;5;28;01mas\u001b[39;00m e:\n\u001b[32m    119\u001b[39m     filtered_tb = _process_traceback_frames(e.__traceback__)\n",
      "\u001b[36mFile \u001b[39m\u001b[32m/mnt/Data/Repos/hull-tactical-market-prediction/.cuda/lib/python3.12/site-packages/keras/src/backend/tensorflow/trainer.py:377\u001b[39m, in \u001b[36mTensorFlowTrainer.fit\u001b[39m\u001b[34m(self, x, y, batch_size, epochs, verbose, callbacks, validation_split, validation_data, shuffle, class_weight, sample_weight, initial_epoch, steps_per_epoch, validation_steps, validation_batch_size, validation_freq)\u001b[39m\n\u001b[32m    375\u001b[39m \u001b[38;5;28;01mfor\u001b[39;00m begin_step, end_step, iterator \u001b[38;5;129;01min\u001b[39;00m epoch_iterator:\n\u001b[32m    376\u001b[39m     callbacks.on_train_batch_begin(begin_step)\n\u001b[32m--> \u001b[39m\u001b[32m377\u001b[39m     logs = \u001b[38;5;28;43mself\u001b[39;49m\u001b[43m.\u001b[49m\u001b[43mtrain_function\u001b[49m\u001b[43m(\u001b[49m\u001b[43miterator\u001b[49m\u001b[43m)\u001b[49m\n\u001b[32m    378\u001b[39m     callbacks.on_train_batch_end(end_step, logs)\n\u001b[32m    379\u001b[39m     \u001b[38;5;28;01mif\u001b[39;00m \u001b[38;5;28mself\u001b[39m.stop_training:\n",
      "\u001b[36mFile \u001b[39m\u001b[32m/mnt/Data/Repos/hull-tactical-market-prediction/.cuda/lib/python3.12/site-packages/keras/src/backend/tensorflow/trainer.py:220\u001b[39m, in \u001b[36mTensorFlowTrainer._make_function.<locals>.function\u001b[39m\u001b[34m(iterator)\u001b[39m\n\u001b[32m    216\u001b[39m \u001b[38;5;28;01mdef\u001b[39;00m\u001b[38;5;250m \u001b[39m\u001b[34mfunction\u001b[39m(iterator):\n\u001b[32m    217\u001b[39m     \u001b[38;5;28;01mif\u001b[39;00m \u001b[38;5;28misinstance\u001b[39m(\n\u001b[32m    218\u001b[39m         iterator, (tf.data.Iterator, tf.distribute.DistributedIterator)\n\u001b[32m    219\u001b[39m     ):\n\u001b[32m--> \u001b[39m\u001b[32m220\u001b[39m         opt_outputs = \u001b[43mmulti_step_on_iterator\u001b[49m\u001b[43m(\u001b[49m\u001b[43miterator\u001b[49m\u001b[43m)\u001b[49m\n\u001b[32m    221\u001b[39m         \u001b[38;5;28;01mif\u001b[39;00m \u001b[38;5;129;01mnot\u001b[39;00m opt_outputs.has_value():\n\u001b[32m    222\u001b[39m             \u001b[38;5;28;01mraise\u001b[39;00m \u001b[38;5;167;01mStopIteration\u001b[39;00m\n",
      "\u001b[36mFile \u001b[39m\u001b[32m/mnt/Data/Repos/hull-tactical-market-prediction/.cuda/lib/python3.12/site-packages/tensorflow/python/util/traceback_utils.py:150\u001b[39m, in \u001b[36mfilter_traceback.<locals>.error_handler\u001b[39m\u001b[34m(*args, **kwargs)\u001b[39m\n\u001b[32m    148\u001b[39m filtered_tb = \u001b[38;5;28;01mNone\u001b[39;00m\n\u001b[32m    149\u001b[39m \u001b[38;5;28;01mtry\u001b[39;00m:\n\u001b[32m--> \u001b[39m\u001b[32m150\u001b[39m   \u001b[38;5;28;01mreturn\u001b[39;00m \u001b[43mfn\u001b[49m\u001b[43m(\u001b[49m\u001b[43m*\u001b[49m\u001b[43margs\u001b[49m\u001b[43m,\u001b[49m\u001b[43m \u001b[49m\u001b[43m*\u001b[49m\u001b[43m*\u001b[49m\u001b[43mkwargs\u001b[49m\u001b[43m)\u001b[49m\n\u001b[32m    151\u001b[39m \u001b[38;5;28;01mexcept\u001b[39;00m \u001b[38;5;167;01mException\u001b[39;00m \u001b[38;5;28;01mas\u001b[39;00m e:\n\u001b[32m    152\u001b[39m   filtered_tb = _process_traceback_frames(e.__traceback__)\n",
      "\u001b[36mFile \u001b[39m\u001b[32m/mnt/Data/Repos/hull-tactical-market-prediction/.cuda/lib/python3.12/site-packages/tensorflow/python/eager/polymorphic_function/polymorphic_function.py:833\u001b[39m, in \u001b[36mFunction.__call__\u001b[39m\u001b[34m(self, *args, **kwds)\u001b[39m\n\u001b[32m    830\u001b[39m compiler = \u001b[33m\"\u001b[39m\u001b[33mxla\u001b[39m\u001b[33m\"\u001b[39m \u001b[38;5;28;01mif\u001b[39;00m \u001b[38;5;28mself\u001b[39m._jit_compile \u001b[38;5;28;01melse\u001b[39;00m \u001b[33m\"\u001b[39m\u001b[33mnonXla\u001b[39m\u001b[33m\"\u001b[39m\n\u001b[32m    832\u001b[39m \u001b[38;5;28;01mwith\u001b[39;00m OptionalXlaContext(\u001b[38;5;28mself\u001b[39m._jit_compile):\n\u001b[32m--> \u001b[39m\u001b[32m833\u001b[39m   result = \u001b[38;5;28;43mself\u001b[39;49m\u001b[43m.\u001b[49m\u001b[43m_call\u001b[49m\u001b[43m(\u001b[49m\u001b[43m*\u001b[49m\u001b[43margs\u001b[49m\u001b[43m,\u001b[49m\u001b[43m \u001b[49m\u001b[43m*\u001b[49m\u001b[43m*\u001b[49m\u001b[43mkwds\u001b[49m\u001b[43m)\u001b[49m\n\u001b[32m    835\u001b[39m new_tracing_count = \u001b[38;5;28mself\u001b[39m.experimental_get_tracing_count()\n\u001b[32m    836\u001b[39m without_tracing = (tracing_count == new_tracing_count)\n",
      "\u001b[36mFile \u001b[39m\u001b[32m/mnt/Data/Repos/hull-tactical-market-prediction/.cuda/lib/python3.12/site-packages/tensorflow/python/eager/polymorphic_function/polymorphic_function.py:878\u001b[39m, in \u001b[36mFunction._call\u001b[39m\u001b[34m(self, *args, **kwds)\u001b[39m\n\u001b[32m    875\u001b[39m \u001b[38;5;28mself\u001b[39m._lock.release()\n\u001b[32m    876\u001b[39m \u001b[38;5;66;03m# In this case we have not created variables on the first call. So we can\u001b[39;00m\n\u001b[32m    877\u001b[39m \u001b[38;5;66;03m# run the first trace but we should fail if variables are created.\u001b[39;00m\n\u001b[32m--> \u001b[39m\u001b[32m878\u001b[39m results = \u001b[43mtracing_compilation\u001b[49m\u001b[43m.\u001b[49m\u001b[43mcall_function\u001b[49m\u001b[43m(\u001b[49m\n\u001b[32m    879\u001b[39m \u001b[43m    \u001b[49m\u001b[43margs\u001b[49m\u001b[43m,\u001b[49m\u001b[43m \u001b[49m\u001b[43mkwds\u001b[49m\u001b[43m,\u001b[49m\u001b[43m \u001b[49m\u001b[38;5;28;43mself\u001b[39;49m\u001b[43m.\u001b[49m\u001b[43m_variable_creation_config\u001b[49m\n\u001b[32m    880\u001b[39m \u001b[43m\u001b[49m\u001b[43m)\u001b[49m\n\u001b[32m    881\u001b[39m \u001b[38;5;28;01mif\u001b[39;00m \u001b[38;5;28mself\u001b[39m._created_variables:\n\u001b[32m    882\u001b[39m   \u001b[38;5;28;01mraise\u001b[39;00m \u001b[38;5;167;01mValueError\u001b[39;00m(\u001b[33m\"\u001b[39m\u001b[33mCreating variables on a non-first call to a function\u001b[39m\u001b[33m\"\u001b[39m\n\u001b[32m    883\u001b[39m                    \u001b[33m\"\u001b[39m\u001b[33m decorated with tf.function.\u001b[39m\u001b[33m\"\u001b[39m)\n",
      "\u001b[36mFile \u001b[39m\u001b[32m/mnt/Data/Repos/hull-tactical-market-prediction/.cuda/lib/python3.12/site-packages/tensorflow/python/eager/polymorphic_function/tracing_compilation.py:138\u001b[39m, in \u001b[36mcall_function\u001b[39m\u001b[34m(args, kwargs, tracing_options)\u001b[39m\n\u001b[32m    136\u001b[39m \u001b[38;5;66;03m# Bind it ourselves to skip unnecessary canonicalization of default call.\u001b[39;00m\n\u001b[32m    137\u001b[39m bound_args = function.function_type.bind(*args, **kwargs)\n\u001b[32m--> \u001b[39m\u001b[32m138\u001b[39m flat_inputs = \u001b[43mfunction\u001b[49m\u001b[43m.\u001b[49m\u001b[43mfunction_type\u001b[49m\u001b[43m.\u001b[49m\u001b[43munpack_inputs\u001b[49m\u001b[43m(\u001b[49m\u001b[43mbound_args\u001b[49m\u001b[43m)\u001b[49m\n\u001b[32m    139\u001b[39m \u001b[38;5;28;01mreturn\u001b[39;00m function._call_flat(  \u001b[38;5;66;03m# pylint: disable=protected-access\u001b[39;00m\n\u001b[32m    140\u001b[39m     flat_inputs, captured_inputs=function.captured_inputs\n\u001b[32m    141\u001b[39m )\n",
      "\u001b[36mFile \u001b[39m\u001b[32m/mnt/Data/Repos/hull-tactical-market-prediction/.cuda/lib/python3.12/site-packages/tensorflow/core/function/polymorphism/function_type.py:395\u001b[39m, in \u001b[36mFunctionType.unpack_inputs\u001b[39m\u001b[34m(self, bound_parameters)\u001b[39m\n\u001b[32m    392\u001b[39m flat = []\n\u001b[32m    393\u001b[39m \u001b[38;5;28;01mfor\u001b[39;00m p \u001b[38;5;129;01min\u001b[39;00m \u001b[38;5;28mself\u001b[39m._sorted_parameters:\n\u001b[32m    394\u001b[39m   flat.extend(\n\u001b[32m--> \u001b[39m\u001b[32m395\u001b[39m       \u001b[43mp\u001b[49m\u001b[43m.\u001b[49m\u001b[43mtype_constraint\u001b[49m\u001b[43m.\u001b[49m\u001b[43mto_tensors\u001b[49m\u001b[43m(\u001b[49m\u001b[43mbound_parameters\u001b[49m\u001b[43m.\u001b[49m\u001b[43marguments\u001b[49m\u001b[43m[\u001b[49m\u001b[43mp\u001b[49m\u001b[43m.\u001b[49m\u001b[43mname\u001b[49m\u001b[43m]\u001b[49m\u001b[43m)\u001b[49m\n\u001b[32m    396\u001b[39m   )\n\u001b[32m    398\u001b[39m dealiased_inputs = []\n\u001b[32m    399\u001b[39m ids_used = \u001b[38;5;28mset\u001b[39m()\n",
      "\u001b[36mFile \u001b[39m\u001b[32m/mnt/Data/Repos/hull-tactical-market-prediction/.cuda/lib/python3.12/site-packages/tensorflow/python/framework/type_spec.py:251\u001b[39m, in \u001b[36mTypeSpec.to_tensors\u001b[39m\u001b[34m(self, value)\u001b[39m\n\u001b[32m    248\u001b[39m \u001b[38;5;250m\u001b[39m\u001b[33;03m\"\"\"See TraceType base class for details. Do not override.\"\"\"\u001b[39;00m\n\u001b[32m    250\u001b[39m tensors = []\n\u001b[32m--> \u001b[39m\u001b[32m251\u001b[39m \u001b[43mnest\u001b[49m\u001b[43m.\u001b[49m\u001b[43mmap_structure\u001b[49m\u001b[43m(\u001b[49m\n\u001b[32m    252\u001b[39m \u001b[43m    \u001b[49m\u001b[38;5;28;43;01mlambda\u001b[39;49;00m\u001b[43m \u001b[49m\u001b[43mspec\u001b[49m\u001b[43m,\u001b[49m\u001b[43m \u001b[49m\u001b[43mv\u001b[49m\u001b[43m:\u001b[49m\u001b[43m \u001b[49m\u001b[43mtensors\u001b[49m\u001b[43m.\u001b[49m\u001b[43mextend\u001b[49m\u001b[43m(\u001b[49m\u001b[43mspec\u001b[49m\u001b[43m.\u001b[49m\u001b[43mto_tensors\u001b[49m\u001b[43m(\u001b[49m\u001b[43mv\u001b[49m\u001b[43m)\u001b[49m\u001b[43m)\u001b[49m\u001b[43m,\u001b[49m\n\u001b[32m    253\u001b[39m \u001b[43m    \u001b[49m\u001b[38;5;28;43mself\u001b[39;49m\u001b[43m.\u001b[49m\u001b[43m_component_specs\u001b[49m\u001b[43m,\u001b[49m\n\u001b[32m    254\u001b[39m \u001b[43m    \u001b[49m\u001b[38;5;28;43mself\u001b[39;49m\u001b[43m.\u001b[49m\u001b[43m_to_components\u001b[49m\u001b[43m(\u001b[49m\u001b[43mvalue\u001b[49m\u001b[43m)\u001b[49m\u001b[43m)\u001b[49m\n\u001b[32m    255\u001b[39m \u001b[38;5;28;01mreturn\u001b[39;00m tensors\n",
      "\u001b[36mFile \u001b[39m\u001b[32m/mnt/Data/Repos/hull-tactical-market-prediction/.cuda/lib/python3.12/site-packages/tensorflow/python/util/nest.py:628\u001b[39m, in \u001b[36mmap_structure\u001b[39m\u001b[34m(func, *structure, **kwargs)\u001b[39m\n\u001b[32m    542\u001b[39m \u001b[38;5;129m@tf_export\u001b[39m(\u001b[33m\"\u001b[39m\u001b[33mnest.map_structure\u001b[39m\u001b[33m\"\u001b[39m)\n\u001b[32m    543\u001b[39m \u001b[38;5;28;01mdef\u001b[39;00m\u001b[38;5;250m \u001b[39m\u001b[34mmap_structure\u001b[39m(func, *structure, **kwargs):\n\u001b[32m    544\u001b[39m \u001b[38;5;250m  \u001b[39m\u001b[33;03m\"\"\"Creates a new structure by applying `func` to each atom in `structure`.\u001b[39;00m\n\u001b[32m    545\u001b[39m \n\u001b[32m    546\u001b[39m \u001b[33;03m  Refer to [tf.nest](https://www.tensorflow.org/api_docs/python/tf/nest)\u001b[39;00m\n\u001b[32m   (...)\u001b[39m\u001b[32m    626\u001b[39m \u001b[33;03m    ValueError: If wrong keyword arguments are provided.\u001b[39;00m\n\u001b[32m    627\u001b[39m \u001b[33;03m  \"\"\"\u001b[39;00m\n\u001b[32m--> \u001b[39m\u001b[32m628\u001b[39m   \u001b[38;5;28;01mreturn\u001b[39;00m \u001b[43mnest_util\u001b[49m\u001b[43m.\u001b[49m\u001b[43mmap_structure\u001b[49m\u001b[43m(\u001b[49m\n\u001b[32m    629\u001b[39m \u001b[43m      \u001b[49m\u001b[43mnest_util\u001b[49m\u001b[43m.\u001b[49m\u001b[43mModality\u001b[49m\u001b[43m.\u001b[49m\u001b[43mCORE\u001b[49m\u001b[43m,\u001b[49m\u001b[43m \u001b[49m\u001b[43mfunc\u001b[49m\u001b[43m,\u001b[49m\u001b[43m \u001b[49m\u001b[43m*\u001b[49m\u001b[43mstructure\u001b[49m\u001b[43m,\u001b[49m\u001b[43m \u001b[49m\u001b[43m*\u001b[49m\u001b[43m*\u001b[49m\u001b[43mkwargs\u001b[49m\n\u001b[32m    630\u001b[39m \u001b[43m  \u001b[49m\u001b[43m)\u001b[49m\n",
      "\u001b[36mFile \u001b[39m\u001b[32m/mnt/Data/Repos/hull-tactical-market-prediction/.cuda/lib/python3.12/site-packages/tensorflow/python/util/nest_util.py:1065\u001b[39m, in \u001b[36mmap_structure\u001b[39m\u001b[34m(modality, func, *structure, **kwargs)\u001b[39m\n\u001b[32m    968\u001b[39m \u001b[38;5;250m\u001b[39m\u001b[33;03m\"\"\"Creates a new structure by applying `func` to each atom in `structure`.\u001b[39;00m\n\u001b[32m    969\u001b[39m \n\u001b[32m    970\u001b[39m \u001b[33;03m- For Modality.CORE: Refer to\u001b[39;00m\n\u001b[32m   (...)\u001b[39m\u001b[32m   1062\u001b[39m \u001b[33;03m  ValueError: If wrong keyword arguments are provided.\u001b[39;00m\n\u001b[32m   1063\u001b[39m \u001b[33;03m\"\"\"\u001b[39;00m\n\u001b[32m   1064\u001b[39m \u001b[38;5;28;01mif\u001b[39;00m modality == Modality.CORE:\n\u001b[32m-> \u001b[39m\u001b[32m1065\u001b[39m   \u001b[38;5;28;01mreturn\u001b[39;00m \u001b[43m_tf_core_map_structure\u001b[49m\u001b[43m(\u001b[49m\u001b[43mfunc\u001b[49m\u001b[43m,\u001b[49m\u001b[43m \u001b[49m\u001b[43m*\u001b[49m\u001b[43mstructure\u001b[49m\u001b[43m,\u001b[49m\u001b[43m \u001b[49m\u001b[43m*\u001b[49m\u001b[43m*\u001b[49m\u001b[43mkwargs\u001b[49m\u001b[43m)\u001b[49m\n\u001b[32m   1066\u001b[39m \u001b[38;5;28;01melif\u001b[39;00m modality == Modality.DATA:\n\u001b[32m   1067\u001b[39m   \u001b[38;5;28;01mreturn\u001b[39;00m _tf_data_map_structure(func, *structure, **kwargs)\n",
      "\u001b[36mFile \u001b[39m\u001b[32m/mnt/Data/Repos/hull-tactical-market-prediction/.cuda/lib/python3.12/site-packages/tensorflow/python/util/nest_util.py:1103\u001b[39m, in \u001b[36m_tf_core_map_structure\u001b[39m\u001b[34m(func, *structure, **kwargs)\u001b[39m\n\u001b[32m   1100\u001b[39m flat_structure = (_tf_core_flatten(s, expand_composites) \u001b[38;5;28;01mfor\u001b[39;00m s \u001b[38;5;129;01min\u001b[39;00m structure)\n\u001b[32m   1101\u001b[39m entries = \u001b[38;5;28mzip\u001b[39m(*flat_structure)\n\u001b[32m-> \u001b[39m\u001b[32m1103\u001b[39m \u001b[38;5;28;01mreturn\u001b[39;00m \u001b[43m_tf_core_pack_sequence_as\u001b[49m\u001b[43m(\u001b[49m\n\u001b[32m   1104\u001b[39m \u001b[43m    \u001b[49m\u001b[43mstructure\u001b[49m\u001b[43m[\u001b[49m\u001b[32;43m0\u001b[39;49m\u001b[43m]\u001b[49m\u001b[43m,\u001b[49m\n\u001b[32m   1105\u001b[39m \u001b[43m    \u001b[49m\u001b[43m[\u001b[49m\u001b[43mfunc\u001b[49m\u001b[43m(\u001b[49m\u001b[43m*\u001b[49m\u001b[43mx\u001b[49m\u001b[43m)\u001b[49m\u001b[43m \u001b[49m\u001b[38;5;28;43;01mfor\u001b[39;49;00m\u001b[43m \u001b[49m\u001b[43mx\u001b[49m\u001b[43m \u001b[49m\u001b[38;5;129;43;01min\u001b[39;49;00m\u001b[43m \u001b[49m\u001b[43mentries\u001b[49m\u001b[43m]\u001b[49m\u001b[43m,\u001b[49m\n\u001b[32m   1106\u001b[39m \u001b[43m    \u001b[49m\u001b[43mexpand_composites\u001b[49m\u001b[43m=\u001b[49m\u001b[43mexpand_composites\u001b[49m\u001b[43m,\u001b[49m\n\u001b[32m   1107\u001b[39m \u001b[43m\u001b[49m\u001b[43m)\u001b[49m\n",
      "\u001b[36mFile \u001b[39m\u001b[32m/mnt/Data/Repos/hull-tactical-market-prediction/.cuda/lib/python3.12/site-packages/tensorflow/python/util/nest_util.py:919\u001b[39m, in \u001b[36m_tf_core_pack_sequence_as\u001b[39m\u001b[34m(structure, flat_sequence, expand_composites, sequence_fn)\u001b[39m\n\u001b[32m    912\u001b[39m   \u001b[38;5;28;01mif\u001b[39;00m \u001b[38;5;28mlen\u001b[39m(flat_structure) != \u001b[38;5;28mlen\u001b[39m(flat_sequence):\n\u001b[32m    913\u001b[39m     \u001b[38;5;66;03m# pylint: disable=raise-missing-from\u001b[39;00m\n\u001b[32m    914\u001b[39m     \u001b[38;5;28;01mraise\u001b[39;00m \u001b[38;5;167;01mValueError\u001b[39;00m(\n\u001b[32m    915\u001b[39m         \u001b[33m\"\u001b[39m\u001b[33mCould not pack sequence. Structure had \u001b[39m\u001b[38;5;132;01m%d\u001b[39;00m\u001b[33m atoms, but \u001b[39m\u001b[33m\"\u001b[39m\n\u001b[32m    916\u001b[39m         \u001b[33m\"\u001b[39m\u001b[33mflat_sequence had \u001b[39m\u001b[38;5;132;01m%d\u001b[39;00m\u001b[33m items.  Structure: \u001b[39m\u001b[38;5;132;01m%s\u001b[39;00m\u001b[33m, flat_sequence: \u001b[39m\u001b[38;5;132;01m%s\u001b[39;00m\u001b[33m.\u001b[39m\u001b[33m\"\u001b[39m\n\u001b[32m    917\u001b[39m         % (\u001b[38;5;28mlen\u001b[39m(flat_structure), \u001b[38;5;28mlen\u001b[39m(flat_sequence), structure, flat_sequence)\n\u001b[32m    918\u001b[39m     )\n\u001b[32m--> \u001b[39m\u001b[32m919\u001b[39m \u001b[38;5;28;01mreturn\u001b[39;00m \u001b[43msequence_fn\u001b[49m\u001b[43m(\u001b[49m\u001b[43mstructure\u001b[49m\u001b[43m,\u001b[49m\u001b[43m \u001b[49m\u001b[43mpacked\u001b[49m\u001b[43m)\u001b[49m\n",
      "\u001b[36mFile \u001b[39m\u001b[32m/mnt/Data/Repos/hull-tactical-market-prediction/.cuda/lib/python3.12/site-packages/tensorflow/python/util/nest_util.py:244\u001b[39m, in \u001b[36msequence_like\u001b[39m\u001b[34m(instance, args)\u001b[39m\n\u001b[32m    240\u001b[39m \u001b[38;5;28;01melif\u001b[39;00m \u001b[38;5;28misinstance\u001b[39m(instance, _wrapt.ObjectProxy):\n\u001b[32m    241\u001b[39m   \u001b[38;5;66;03m# For object proxies, first create the underlying type and then re-wrap it\u001b[39;00m\n\u001b[32m    242\u001b[39m   \u001b[38;5;66;03m# in the proxy type.\u001b[39;00m\n\u001b[32m    243\u001b[39m   \u001b[38;5;28;01mreturn\u001b[39;00m \u001b[38;5;28mtype\u001b[39m(instance)(sequence_like(instance.__wrapped__, args))\n\u001b[32m--> \u001b[39m\u001b[32m244\u001b[39m \u001b[38;5;28;01melif\u001b[39;00m \u001b[38;5;28;43misinstance\u001b[39;49m\u001b[43m(\u001b[49m\u001b[43minstance\u001b[49m\u001b[43m,\u001b[49m\u001b[43m \u001b[49m\u001b[43mCustomNestProtocol\u001b[49m\u001b[43m)\u001b[49m:\n\u001b[32m    245\u001b[39m   metadata = instance.__tf_flatten__()[\u001b[32m0\u001b[39m]\n\u001b[32m    246\u001b[39m   \u001b[38;5;28;01mreturn\u001b[39;00m instance.__tf_unflatten__(metadata, \u001b[38;5;28mtuple\u001b[39m(args))\n",
      "\u001b[36mFile \u001b[39m\u001b[32m/usr/lib/python3.12/typing.py:1893\u001b[39m, in \u001b[36m_ProtocolMeta.__instancecheck__\u001b[39m\u001b[34m(cls, instance)\u001b[39m\n\u001b[32m   1891\u001b[39m \u001b[38;5;28;01mfor\u001b[39;00m attr \u001b[38;5;129;01min\u001b[39;00m \u001b[38;5;28mcls\u001b[39m.__protocol_attrs__:\n\u001b[32m   1892\u001b[39m     \u001b[38;5;28;01mtry\u001b[39;00m:\n\u001b[32m-> \u001b[39m\u001b[32m1893\u001b[39m         val = \u001b[43mgetattr_static\u001b[49m\u001b[43m(\u001b[49m\u001b[43minstance\u001b[49m\u001b[43m,\u001b[49m\u001b[43m \u001b[49m\u001b[43mattr\u001b[49m\u001b[43m)\u001b[49m\n\u001b[32m   1894\u001b[39m     \u001b[38;5;28;01mexcept\u001b[39;00m \u001b[38;5;167;01mAttributeError\u001b[39;00m:\n\u001b[32m   1895\u001b[39m         \u001b[38;5;28;01mbreak\u001b[39;00m\n",
      "\u001b[36mFile \u001b[39m\u001b[32m/usr/lib/python3.12/inspect.py:1863\u001b[39m, in \u001b[36mgetattr_static\u001b[39m\u001b[34m(obj, attr, default)\u001b[39m\n\u001b[32m   1861\u001b[39m \u001b[38;5;28;01mif\u001b[39;00m default \u001b[38;5;129;01mis\u001b[39;00m \u001b[38;5;129;01mnot\u001b[39;00m _sentinel:\n\u001b[32m   1862\u001b[39m     \u001b[38;5;28;01mreturn\u001b[39;00m default\n\u001b[32m-> \u001b[39m\u001b[32m1863\u001b[39m \u001b[38;5;28;01mraise\u001b[39;00m \u001b[38;5;167;43;01mAttributeError\u001b[39;49;00m\u001b[43m(\u001b[49m\u001b[43mattr\u001b[49m\u001b[43m)\u001b[49m\n",
      "\u001b[31mKeyboardInterrupt\u001b[39m: "
     ]
    }
   ],
   "source": [
    "for k, (i_train, i_val) in enumerate(model_selection.TimeSeriesSplit().split(inputs)):\n",
    "    model.fit(inputs[i_train], targets[i_train], epochs=MAX_EPOCHS, validation_data=(inputs[i_val], targets[i_val]), verbose=0,\n",
    "              callbacks=[callbacks.EarlyStopping(patience=MIN_EPOCHS, restore_best_weights=True), callbacks.TerminateOnNaN()])\n",
    "    model.save(f'.models/{model.name}.keras')\n",
    "    while gc.collect() > 0: pass"
   ]
  },
  {
   "cell_type": "code",
   "execution_count": null,
   "id": "41e58607",
   "metadata": {},
   "outputs": [],
   "source": [
    "test_data = pl.read_csv('test.csv').drop(['date_id', 'is_scored']).fill_null(0)\n",
    "test_data"
   ]
  },
  {
   "cell_type": "code",
   "execution_count": null,
   "id": "6d9a4555",
   "metadata": {},
   "outputs": [],
   "source": [
    "test_targets = np.where(test_data['lagged_market_forward_excess_returns'].shift(1) > 0, MAX_SIGNAL, MIN_SIGNAL)\n",
    "test_targets"
   ]
  },
  {
   "cell_type": "code",
   "execution_count": null,
   "id": "50b4f6a2",
   "metadata": {},
   "outputs": [],
   "source": [
    "test_inputs = test_data.to_numpy()\n",
    "test_inputs.shape"
   ]
  },
  {
   "cell_type": "code",
   "execution_count": null,
   "id": "bfdc3a89",
   "metadata": {},
   "outputs": [],
   "source": [
    "plt.figure(figsize=(13, 5))\n",
    "plt.title(f'{model.name} Signals vs Hull Targets')\n",
    "plt.plot(test_targets, zorder=-1)\n",
    "indices = np.arange(test_targets.shape[0])\n",
    "plt.scatter(indices, test_targets, label='Target', edgecolors='k', c='g', s=64)\n",
    "signals = model.predict(test_inputs)\n",
    "plt.plot(signals, zorder=-1)\n",
    "plt.scatter(indices, signals, label='Signal', marker='X', edgecolors='k', c='r', s=64)\n",
    "plt.legend()\n",
    "pass"
   ]
  },
  {
   "cell_type": "code",
   "execution_count": null,
   "id": "92d59c46",
   "metadata": {},
   "outputs": [],
   "source": [
    "signals"
   ]
  }
 ],
 "metadata": {
  "kernelspec": {
   "display_name": ".cuda (3.12.3)",
   "language": "python",
   "name": "python3"
  },
  "language_info": {
   "codemirror_mode": {
    "name": "ipython",
    "version": 3
   },
   "file_extension": ".py",
   "mimetype": "text/x-python",
   "name": "python",
   "nbconvert_exporter": "python",
   "pygments_lexer": "ipython3",
   "version": "3.12.3"
  }
 },
 "nbformat": 4,
 "nbformat_minor": 5
}
