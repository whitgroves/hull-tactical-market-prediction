{
 "cells": [
  {
   "cell_type": "code",
   "execution_count": 13,
   "id": "277051d1",
   "metadata": {},
   "outputs": [],
   "source": [
    "import gc\n",
    "import os\n",
    "import matplotlib.pyplot as plt\n",
    "import numpy as np\n",
    "import polars as pl\n",
    "os.environ['TF_CPP_MIN_LOG_LEVEL'] = '3' # suppress CUDA errors\n",
    "import tensorflow as tf\n",
    "from keras import mixed_precision, utils, saving, layers, losses, optimizers, metrics, callbacks, Sequential\n",
    "from sklearn import model_selection\n",
    "\n",
    "mixed_precision.set_global_policy('mixed_float16') # https://keras.io/2/api/mixed_precision/policy/\n",
    "utils.set_random_seed(42)"
   ]
  },
  {
   "cell_type": "code",
   "execution_count": 14,
   "id": "097298b9",
   "metadata": {},
   "outputs": [
    {
     "data": {
      "text/html": [
       "<div><style>\n",
       ".dataframe > thead > tr,\n",
       ".dataframe > tbody > tr {\n",
       "  text-align: right;\n",
       "  white-space: pre-wrap;\n",
       "}\n",
       "</style>\n",
       "<small>shape: (10, 97)</small><table border=\"1\" class=\"dataframe\"><thead><tr><th>D1</th><th>D2</th><th>D3</th><th>D4</th><th>D5</th><th>D6</th><th>D7</th><th>D8</th><th>D9</th><th>E1</th><th>E10</th><th>E11</th><th>E12</th><th>E13</th><th>E14</th><th>E15</th><th>E16</th><th>E17</th><th>E18</th><th>E19</th><th>E2</th><th>E20</th><th>E3</th><th>E4</th><th>E5</th><th>E6</th><th>E7</th><th>E8</th><th>E9</th><th>I1</th><th>I2</th><th>I3</th><th>I4</th><th>I5</th><th>I6</th><th>I7</th><th>I8</th><th>&hellip;</th><th>P13</th><th>P2</th><th>P3</th><th>P4</th><th>P5</th><th>P6</th><th>P7</th><th>P8</th><th>P9</th><th>S1</th><th>S10</th><th>S11</th><th>S12</th><th>S2</th><th>S3</th><th>S4</th><th>S5</th><th>S6</th><th>S7</th><th>S8</th><th>S9</th><th>V1</th><th>V10</th><th>V11</th><th>V12</th><th>V13</th><th>V2</th><th>V3</th><th>V4</th><th>V5</th><th>V6</th><th>V7</th><th>V8</th><th>V9</th><th>lagged_forward_returns</th><th>lagged_risk_free_rate</th><th>lagged_market_forward_excess_returns</th></tr><tr><td>i64</td><td>i64</td><td>i64</td><td>i64</td><td>i64</td><td>i64</td><td>i64</td><td>i64</td><td>i64</td><td>f64</td><td>f64</td><td>f64</td><td>f64</td><td>f64</td><td>f64</td><td>f64</td><td>f64</td><td>f64</td><td>f64</td><td>f64</td><td>f64</td><td>f64</td><td>f64</td><td>f64</td><td>f64</td><td>f64</td><td>f64</td><td>f64</td><td>f64</td><td>f64</td><td>f64</td><td>f64</td><td>f64</td><td>f64</td><td>f64</td><td>f64</td><td>f64</td><td>&hellip;</td><td>f64</td><td>f64</td><td>f64</td><td>f64</td><td>f64</td><td>f64</td><td>f64</td><td>f64</td><td>f64</td><td>f64</td><td>f64</td><td>f64</td><td>f64</td><td>f64</td><td>f64</td><td>f64</td><td>f64</td><td>f64</td><td>f64</td><td>f64</td><td>f64</td><td>f64</td><td>f64</td><td>f64</td><td>f64</td><td>f64</td><td>f64</td><td>f64</td><td>f64</td><td>f64</td><td>f64</td><td>f64</td><td>f64</td><td>f64</td><td>f64</td><td>f64</td><td>f64</td></tr></thead><tbody><tr><td>0</td><td>0</td><td>0</td><td>0</td><td>1</td><td>0</td><td>0</td><td>1</td><td>0</td><td>1.577651</td><td>0.186177</td><td>0.001323</td><td>0.001323</td><td>0.001323</td><td>0.001323</td><td>0.955026</td><td>-0.583419</td><td>-0.704264</td><td>0.298365</td><td>-0.691361</td><td>1.259065</td><td>1.556516</td><td>1.71258</td><td>0.033069</td><td>0.333333</td><td>0.036376</td><td>-0.046483</td><td>-0.312326</td><td>0.913029</td><td>0.306217</td><td>1.025756</td><td>0.081349</td><td>0.478175</td><td>0.675627</td><td>0.699735</td><td>0.256283</td><td>0.36045</td><td>&hellip;</td><td>0.794643</td><td>-1.427834</td><td>0.352513</td><td>0.926257</td><td>0.431383</td><td>-0.476976</td><td>0.500245</td><td>1.784173</td><td>0.029762</td><td>0.294719</td><td>0.51455</td><td>0.446429</td><td>0.466551</td><td>0.085717</td><td>-0.230132</td><td>0.272487</td><td>-0.106894</td><td>0.199735</td><td>0.409392</td><td>0.532717</td><td>0.744048</td><td>0.440476</td><td>-0.654839</td><td>0.699735</td><td>0.699074</td><td>-0.5024</td><td>0.882937</td><td>0.892196</td><td>0.828042</td><td>0.999172</td><td>0.759921</td><td>-0.803127</td><td>0.170966</td><td>-0.751909</td><td>0.003541</td><td>0.000161</td><td>0.003068</td></tr><tr><td>0</td><td>0</td><td>0</td><td>0</td><td>1</td><td>0</td><td>0</td><td>1</td><td>0</td><td>1.575182</td><td>0.185847</td><td>0.000992</td><td>0.000992</td><td>0.000992</td><td>0.000992</td><td>0.955357</td><td>-0.583074</td><td>-0.703759</td><td>0.297608</td><td>-0.504499</td><td>1.193468</td><td>1.554184</td><td>1.640054</td><td>0.032738</td><td>0.333003</td><td>0.036045</td><td>0.073582</td><td>-0.312345</td><td>0.91336</td><td>0.305886</td><td>0.989571</td><td>0.082672</td><td>0.477844</td><td>0.661527</td><td>0.719577</td><td>0.255952</td><td>0.361111</td><td>&hellip;</td><td>0.71131</td><td>-1.37652</td><td>0.953042</td><td>0.386905</td><td>0.523549</td><td>-0.421365</td><td>-0.234829</td><td>1.770175</td><td>0.03373</td><td>0.304496</td><td>0.638228</td><td>0.636905</td><td>1.849101</td><td>0.28169</td><td>-0.041995</td><td>0.448413</td><td>0.094321</td><td>0.215608</td><td>0.409392</td><td>0.597864</td><td>0.872354</td><td>0.691138</td><td>-0.583443</td><td>0.62996</td><td>0.598545</td><td>-0.394268</td><td>0.863757</td><td>0.699074</td><td>0.831349</td><td>1.120336</td><td>0.556217</td><td>-0.686192</td><td>0.141865</td><td>-0.660326</td><td>-0.005964</td><td>0.000162</td><td>-0.006437</td></tr><tr><td>0</td><td>0</td><td>0</td><td>0</td><td>1</td><td>0</td><td>0</td><td>0</td><td>1</td><td>1.57272</td><td>0.185516</td><td>0.000661</td><td>0.000661</td><td>0.000661</td><td>0.000661</td><td>0.955688</td><td>-0.083356</td><td>-0.573546</td><td>0.225822</td><td>-0.393903</td><td>1.123361</td><td>1.551723</td><td>1.562722</td><td>0.032407</td><td>0.332672</td><td>0.035714</td><td>0.033581</td><td>-0.312364</td><td>0.91369</td><td>0.291997</td><td>1.040514</td><td>0.081349</td><td>0.477513</td><td>0.655741</td><td>0.724206</td><td>0.22619</td><td>0.35582</td><td>&hellip;</td><td>0.212632</td><td>-1.34762</td><td>0.210979</td><td>0.635251</td><td>-1.138198</td><td>-0.494248</td><td>-1.042718</td><td>1.754171</td><td>0.032407</td><td>0.257609</td><td>0.082011</td><td>0.152116</td><td>-0.201611</td><td>0.346373</td><td>0.054032</td><td>0.137566</td><td>0.294305</td><td>0.194444</td><td>0.409392</td><td>0.596528</td><td>0.778439</td><td>0.634921</td><td>-0.483236</td><td>0.669974</td><td>0.603836</td><td>-0.17042</td><td>0.848545</td><td>0.647487</td><td>0.832672</td><td>1.088992</td><td>0.665344</td><td>-0.459367</td><td>0.199405</td><td>-0.510979</td><td>-0.00741</td><td>0.00016</td><td>-0.007882</td></tr><tr><td>0</td><td>0</td><td>0</td><td>0</td><td>1</td><td>0</td><td>0</td><td>0</td><td>1</td><td>1.570266</td><td>0.185185</td><td>0.019841</td><td>0.019841</td><td>0.006614</td><td>0.006614</td><td>0.956019</td><td>-0.083403</td><td>-0.57318</td><td>0.225094</td><td>-0.541646</td><td>1.167982</td><td>1.549272</td><td>1.611215</td><td>0.032077</td><td>0.332341</td><td>0.035384</td><td>0.033998</td><td>-0.312383</td><td>0.914021</td><td>0.267196</td><td>1.091376</td><td>0.085979</td><td>0.477183</td><td>0.648582</td><td>0.728175</td><td>0.230159</td><td>0.351852</td><td>&hellip;</td><td>0.660714</td><td>-1.399411</td><td>0.724868</td><td>0.21627</td><td>-0.230557</td><td>-0.318347</td><td>0.396917</td><td>1.769678</td><td>0.03373</td><td>0.20235</td><td>0.324074</td><td>0.212963</td><td>0.052878</td><td>-0.049023</td><td>0.120828</td><td>0.219577</td><td>0.137942</td><td>0.167328</td><td>0.409392</td><td>0.579726</td><td>0.449735</td><td>0.665344</td><td>-0.546298</td><td>0.590608</td><td>0.558862</td><td>-0.275099</td><td>0.826058</td><td>0.445767</td><td>0.835979</td><td>1.040988</td><td>0.594577</td><td>-0.561643</td><td>0.161706</td><td>-0.575997</td><td>0.00542</td><td>0.00016</td><td>0.004949</td></tr><tr><td>0</td><td>0</td><td>0</td><td>0</td><td>0</td><td>0</td><td>1</td><td>0</td><td>1</td><td>1.567818</td><td>0.184854</td><td>0.019511</td><td>0.019511</td><td>0.006283</td><td>0.006283</td><td>0.956349</td><td>-0.083449</td><td>-0.572813</td><td>0.224366</td><td>-0.714549</td><td>1.243713</td><td>1.542543</td><td>1.693604</td><td>0.031746</td><td>0.332011</td><td>0.035053</td><td>0.029586</td><td>-0.301855</td><td>0.914352</td><td>0.260913</td><td>1.011571</td><td>0.093915</td><td>0.476852</td><td>0.638667</td><td>0.729497</td><td>0.238757</td><td>0.353836</td><td>&hellip;</td><td>0.32672</td><td>-1.416282</td><td>0.611442</td><td>0.426257</td><td>0.046472</td><td>-0.262086</td><td>1.304142</td><td>1.785515</td><td>0.039683</td><td>0.230364</td><td>0.583995</td><td>0.445106</td><td>1.378927</td><td>-0.182025</td><td>0.01261</td><td>0.369048</td><td>0.011021</td><td>0.130291</td><td>0.409392</td><td>0.572656</td><td>0.489418</td><td>0.600529</td><td>-0.587258</td><td>0.46131</td><td>0.487434</td><td>-0.39548</td><td>0.80754</td><td>0.707672</td><td>0.839947</td><td>0.944593</td><td>0.715608</td><td>-0.692649</td><td>0.124669</td><td>-0.654045</td><td>0.008357</td><td>0.000159</td><td>0.007887</td></tr><tr><td>0</td><td>0</td><td>0</td><td>0</td><td>0</td><td>0</td><td>0</td><td>0</td><td>0</td><td>1.565379</td><td>0.184524</td><td>0.01918</td><td>0.01918</td><td>0.005952</td><td>0.005952</td><td>0.911376</td><td>-0.083496</td><td>-0.572447</td><td>0.223638</td><td>-0.122314</td><td>1.20925</td><td>1.540116</td><td>1.655174</td><td>0.031415</td><td>0.33168</td><td>0.034722</td><td>0.038269</td><td>-0.301876</td><td>0.914683</td><td>0.27414</td><td>0.984115</td><td>0.080688</td><td>0.476521</td><td>0.597442</td><td>0.718254</td><td>0.238757</td><td>0.351852</td><td>&hellip;</td><td>0.625331</td><td>-1.354498</td><td>0.046296</td><td>0.51455</td><td>0.276769</td><td>-0.261326</td><td>0.811754</td><td>1.784929</td><td>0.039683</td><td>0.249933</td><td>0.273148</td><td>0.134921</td><td>0.634465</td><td>-0.446682</td><td>-0.052686</td><td>0.083995</td><td>0.055282</td><td>0.209656</td><td>0.409392</td><td>0.574661</td><td>0.748677</td><td>0.498677</td><td>-0.616395</td><td>0.561839</td><td>0.53373</td><td>-0.432282</td><td>0.785053</td><td>0.469577</td><td>0.837963</td><td>1.226772</td><td>0.822751</td><td>-0.707361</td><td>0.142857</td><td>-0.649616</td><td>-0.002896</td><td>0.000159</td><td>-0.003365</td></tr><tr><td>0</td><td>0</td><td>0</td><td>0</td><td>0</td><td>0</td><td>0</td><td>0</td><td>0</td><td>1.562946</td><td>0.184193</td><td>0.018849</td><td>0.018849</td><td>0.005622</td><td>0.005622</td><td>0.911706</td><td>-0.083542</td><td>-0.57208</td><td>0.22291</td><td>-0.732397</td><td>1.225459</td><td>1.537761</td><td>1.672262</td><td>0.031085</td><td>0.331349</td><td>0.034392</td><td>0.038205</td><td>-0.301897</td><td>0.915013</td><td>0.269841</td><td>0.904453</td><td>0.073413</td><td>0.479167</td><td>0.605079</td><td>0.718254</td><td>0.220899</td><td>0.345238</td><td>&hellip;</td><td>0.739418</td><td>-1.384785</td><td>0.232143</td><td>0.379299</td><td>1.19926</td><td>-0.344274</td><td>0.690323</td><td>1.791596</td><td>0.037037</td><td>0.298533</td><td>0.933201</td><td>0.721561</td><td>1.211345</td><td>-0.11805</td><td>-0.249315</td><td>0.566799</td><td>0.10733</td><td>0.228175</td><td>0.409392</td><td>0.580932</td><td>0.37037</td><td>0.528439</td><td>-0.64204</td><td>0.587632</td><td>0.526455</td><td>-0.429506</td><td>0.767857</td><td>0.671958</td><td>0.837963</td><td>0.785877</td><td>0.805556</td><td>-0.715692</td><td>0.196098</td><td>-0.668289</td><td>0.002457</td><td>0.000155</td><td>0.00199</td></tr><tr><td>0</td><td>0</td><td>1</td><td>0</td><td>0</td><td>0</td><td>0</td><td>0</td><td>0</td><td>1.56052</td><td>0.183862</td><td>0.018519</td><td>0.018519</td><td>0.005291</td><td>0.005291</td><td>0.912037</td><td>-0.083874</td><td>-0.572016</td><td>0.222211</td><td>-0.800465</td><td>1.247273</td><td>1.534742</td><td>1.695469</td><td>0.030754</td><td>0.331019</td><td>0.034061</td><td>0.038118</td><td>-0.301918</td><td>0.915344</td><td>0.273148</td><td>0.842295</td><td>0.074074</td><td>0.478836</td><td>0.611319</td><td>0.724868</td><td>0.223545</td><td>0.340608</td><td>&hellip;</td><td>0.809193</td><td>-1.420007</td><td>0.849868</td><td>0.375661</td><td>0.429471</td><td>-0.233374</td><td>-0.289766</td><td>1.792816</td><td>0.041005</td><td>0.371362</td><td>0.793651</td><td>0.689815</td><td>0.885178</td><td>-0.316882</td><td>-0.422374</td><td>0.631614</td><td>-0.02977</td><td>0.221892</td><td>0.409392</td><td>0.583556</td><td>0.477513</td><td>0.599206</td><td>-0.638658</td><td>0.394841</td><td>0.433532</td><td>-0.425462</td><td>0.734127</td><td>0.481481</td><td>0.787698</td><td>0.834898</td><td>0.823413</td><td>-0.723949</td><td>0.133929</td><td>-0.670946</td><td>0.002312</td><td>0.000156</td><td>0.001845</td></tr><tr><td>0</td><td>0</td><td>0</td><td>0</td><td>0</td><td>0</td><td>0</td><td>0</td><td>0</td><td>1.558102</td><td>0.183532</td><td>0.018188</td><td>0.018188</td><td>0.00496</td><td>0.00496</td><td>0.912368</td><td>-0.084206</td><td>-0.571952</td><td>0.221513</td><td>-0.596939</td><td>1.271926</td><td>1.53234</td><td>1.721692</td><td>0.030423</td><td>0.330688</td><td>0.03373</td><td>0.037647</td><td>-0.301939</td><td>0.915675</td><td>0.272817</td><td>0.858582</td><td>0.082011</td><td>0.478505</td><td>0.604658</td><td>0.719577</td><td>0.262566</td><td>0.353836</td><td>&hellip;</td><td>0.923611</td><td>-1.431028</td><td>0.303241</td><td>0.068783</td><td>0.044888</td><td>-0.269862</td><td>0.423268</td><td>1.792934</td><td>0.046958</td><td>0.41161</td><td>0.011905</td><td>0.026455</td><td>-0.001785</td><td>-0.317961</td><td>-0.608348</td><td>0.066138</td><td>-0.001594</td><td>0.259921</td><td>0.409392</td><td>0.63009</td><td>0.915344</td><td>0.462302</td><td>-0.626927</td><td>0.326389</td><td>0.39418</td><td>-0.38517</td><td>0.695106</td><td>0.655423</td><td>0.78373</td><td>0.994026</td><td>0.851852</td><td>-0.684937</td><td>0.101852</td><td>-0.646265</td><td>0.002891</td><td>0.000156</td><td>0.002424</td></tr><tr><td>0</td><td>0</td><td>0</td><td>0</td><td>0</td><td>0</td><td>0</td><td>0</td><td>0</td><td>1.55569</td><td>0.183201</td><td>0.017857</td><td>0.017857</td><td>0.00463</td><td>0.00463</td><td>0.912698</td><td>-0.084538</td><td>-0.571888</td><td>0.220814</td><td>-0.747066</td><td>1.312626</td><td>1.529875</td><td>1.765317</td><td>0.030093</td><td>0.330357</td><td>0.033399</td><td>0.037561</td><td>-0.267677</td><td>0.916005</td><td>0.305886</td><td>0.822594</td><td>0.080688</td><td>0.478175</td><td>0.603072</td><td>0.705688</td><td>0.263889</td><td>0.356481</td><td>&hellip;</td><td>0.886243</td><td>-1.469985</td><td>0.553571</td><td>0.244378</td><td>0.306917</td><td>-0.177546</td><td>1.885541</td><td>1.796492</td><td>0.047619</td><td>0.410794</td><td>0.351852</td><td>0.070767</td><td>0.257443</td><td>0.011109</td><td>-0.64248</td><td>0.170635</td><td>-0.105022</td><td>0.354167</td><td>0.409392</td><td>0.629295</td><td>0.771825</td><td>0.318783</td><td>-0.66805</td><td>0.12963</td><td>0.37004</td><td>-0.451308</td><td>0.66336</td><td>0.066799</td><td>0.78373</td><td>1.068037</td><td>0.87963</td><td>-0.764806</td><td>0.079034</td><td>-0.705662</td><td>0.00831</td><td>0.000156</td><td>0.007843</td></tr></tbody></table></div>"
      ],
      "text/plain": [
       "shape: (10, 97)\n",
       "┌─────┬─────┬─────┬─────┬───┬───────────┬───────────────────┬───────────────────┬──────────────────┐\n",
       "│ D1  ┆ D2  ┆ D3  ┆ D4  ┆ … ┆ V9        ┆ lagged_forward_re ┆ lagged_risk_free_ ┆ lagged_market_fo │\n",
       "│ --- ┆ --- ┆ --- ┆ --- ┆   ┆ ---       ┆ turns             ┆ rate              ┆ rward_excess_r…  │\n",
       "│ i64 ┆ i64 ┆ i64 ┆ i64 ┆   ┆ f64       ┆ ---               ┆ ---               ┆ ---              │\n",
       "│     ┆     ┆     ┆     ┆   ┆           ┆ f64               ┆ f64               ┆ f64              │\n",
       "╞═════╪═════╪═════╪═════╪═══╪═══════════╪═══════════════════╪═══════════════════╪══════════════════╡\n",
       "│ 0   ┆ 0   ┆ 0   ┆ 0   ┆ … ┆ -0.751909 ┆ 0.003541          ┆ 0.000161          ┆ 0.003068         │\n",
       "│ 0   ┆ 0   ┆ 0   ┆ 0   ┆ … ┆ -0.660326 ┆ -0.005964         ┆ 0.000162          ┆ -0.006437        │\n",
       "│ 0   ┆ 0   ┆ 0   ┆ 0   ┆ … ┆ -0.510979 ┆ -0.00741          ┆ 0.00016           ┆ -0.007882        │\n",
       "│ 0   ┆ 0   ┆ 0   ┆ 0   ┆ … ┆ -0.575997 ┆ 0.00542           ┆ 0.00016           ┆ 0.004949         │\n",
       "│ 0   ┆ 0   ┆ 0   ┆ 0   ┆ … ┆ -0.654045 ┆ 0.008357          ┆ 0.000159          ┆ 0.007887         │\n",
       "│ 0   ┆ 0   ┆ 0   ┆ 0   ┆ … ┆ -0.649616 ┆ -0.002896         ┆ 0.000159          ┆ -0.003365        │\n",
       "│ 0   ┆ 0   ┆ 0   ┆ 0   ┆ … ┆ -0.668289 ┆ 0.002457          ┆ 0.000155          ┆ 0.00199          │\n",
       "│ 0   ┆ 0   ┆ 1   ┆ 0   ┆ … ┆ -0.670946 ┆ 0.002312          ┆ 0.000156          ┆ 0.001845         │\n",
       "│ 0   ┆ 0   ┆ 0   ┆ 0   ┆ … ┆ -0.646265 ┆ 0.002891          ┆ 0.000156          ┆ 0.002424         │\n",
       "│ 0   ┆ 0   ┆ 0   ┆ 0   ┆ … ┆ -0.705662 ┆ 0.00831           ┆ 0.000156          ┆ 0.007843         │\n",
       "└─────┴─────┴─────┴─────┴───┴───────────┴───────────────────┴───────────────────┴──────────────────┘"
      ]
     },
     "execution_count": 14,
     "metadata": {},
     "output_type": "execute_result"
    }
   ],
   "source": [
    "test_inputs = pl.read_csv('test.csv').drop(['date_id', 'is_scored'])\n",
    "test_inputs"
   ]
  },
  {
   "cell_type": "code",
   "execution_count": 15,
   "id": "f9821769",
   "metadata": {},
   "outputs": [
    {
     "data": {
      "text/html": [
       "<div><style>\n",
       ".dataframe > thead > tr,\n",
       ".dataframe > tbody > tr {\n",
       "  text-align: right;\n",
       "  white-space: pre-wrap;\n",
       "}\n",
       "</style>\n",
       "<small>shape: (10, 97)</small><table border=\"1\" class=\"dataframe\"><thead><tr><th>D1</th><th>D2</th><th>D3</th><th>D4</th><th>D5</th><th>D6</th><th>D7</th><th>D8</th><th>D9</th><th>E1</th><th>E10</th><th>E11</th><th>E12</th><th>E13</th><th>E14</th><th>E15</th><th>E16</th><th>E17</th><th>E18</th><th>E19</th><th>E2</th><th>E20</th><th>E3</th><th>E4</th><th>E5</th><th>E6</th><th>E7</th><th>E8</th><th>E9</th><th>I1</th><th>I2</th><th>I3</th><th>I4</th><th>I5</th><th>I6</th><th>I7</th><th>I8</th><th>&hellip;</th><th>P13</th><th>P2</th><th>P3</th><th>P4</th><th>P5</th><th>P6</th><th>P7</th><th>P8</th><th>P9</th><th>S1</th><th>S10</th><th>S11</th><th>S12</th><th>S2</th><th>S3</th><th>S4</th><th>S5</th><th>S6</th><th>S7</th><th>S8</th><th>S9</th><th>V1</th><th>V10</th><th>V11</th><th>V12</th><th>V13</th><th>V2</th><th>V3</th><th>V4</th><th>V5</th><th>V6</th><th>V7</th><th>V8</th><th>V9</th><th>forward_returns</th><th>risk_free_rate</th><th>market_forward_excess_returns</th></tr><tr><td>i64</td><td>i64</td><td>i64</td><td>i64</td><td>i64</td><td>i64</td><td>i64</td><td>i64</td><td>i64</td><td>f64</td><td>f64</td><td>f64</td><td>f64</td><td>f64</td><td>f64</td><td>f64</td><td>f64</td><td>f64</td><td>f64</td><td>f64</td><td>f64</td><td>f64</td><td>f64</td><td>f64</td><td>f64</td><td>f64</td><td>f64</td><td>f64</td><td>f64</td><td>f64</td><td>f64</td><td>f64</td><td>f64</td><td>f64</td><td>f64</td><td>f64</td><td>f64</td><td>&hellip;</td><td>f64</td><td>f64</td><td>f64</td><td>f64</td><td>f64</td><td>f64</td><td>f64</td><td>f64</td><td>f64</td><td>f64</td><td>f64</td><td>f64</td><td>f64</td><td>f64</td><td>f64</td><td>f64</td><td>f64</td><td>f64</td><td>f64</td><td>f64</td><td>f64</td><td>f64</td><td>f64</td><td>f64</td><td>f64</td><td>f64</td><td>f64</td><td>f64</td><td>f64</td><td>f64</td><td>f64</td><td>f64</td><td>f64</td><td>f64</td><td>f64</td><td>f64</td><td>f64</td></tr></thead><tbody><tr><td>0</td><td>0</td><td>0</td><td>0</td><td>1</td><td>0</td><td>0</td><td>1</td><td>0</td><td>1.577651</td><td>0.186177</td><td>0.001323</td><td>0.001323</td><td>0.001323</td><td>0.001323</td><td>0.955026</td><td>-0.583419</td><td>-0.704264</td><td>0.298365</td><td>-0.691361</td><td>1.259065</td><td>1.556516</td><td>1.71258</td><td>0.033069</td><td>0.333333</td><td>0.036376</td><td>-0.046483</td><td>-0.312326</td><td>0.913029</td><td>0.306217</td><td>1.025756</td><td>0.081349</td><td>0.478175</td><td>0.675627</td><td>0.699735</td><td>0.256283</td><td>0.36045</td><td>&hellip;</td><td>0.794643</td><td>-1.427834</td><td>0.352513</td><td>0.926257</td><td>0.431383</td><td>-0.476976</td><td>0.500245</td><td>1.784173</td><td>0.029762</td><td>0.294719</td><td>0.51455</td><td>0.446429</td><td>0.466551</td><td>0.085717</td><td>-0.230132</td><td>0.272487</td><td>-0.106894</td><td>0.199735</td><td>0.409392</td><td>0.532717</td><td>0.744048</td><td>0.440476</td><td>-0.654839</td><td>0.699735</td><td>0.699074</td><td>-0.5024</td><td>0.882937</td><td>0.892196</td><td>0.828042</td><td>0.999172</td><td>0.759921</td><td>-0.803127</td><td>0.170966</td><td>-0.751909</td><td>0.0</td><td>0.0</td><td>0.0</td></tr><tr><td>0</td><td>0</td><td>0</td><td>0</td><td>1</td><td>0</td><td>0</td><td>1</td><td>0</td><td>1.575182</td><td>0.185847</td><td>0.000992</td><td>0.000992</td><td>0.000992</td><td>0.000992</td><td>0.955357</td><td>-0.583074</td><td>-0.703759</td><td>0.297608</td><td>-0.504499</td><td>1.193468</td><td>1.554184</td><td>1.640054</td><td>0.032738</td><td>0.333003</td><td>0.036045</td><td>0.073582</td><td>-0.312345</td><td>0.91336</td><td>0.305886</td><td>0.989571</td><td>0.082672</td><td>0.477844</td><td>0.661527</td><td>0.719577</td><td>0.255952</td><td>0.361111</td><td>&hellip;</td><td>0.71131</td><td>-1.37652</td><td>0.953042</td><td>0.386905</td><td>0.523549</td><td>-0.421365</td><td>-0.234829</td><td>1.770175</td><td>0.03373</td><td>0.304496</td><td>0.638228</td><td>0.636905</td><td>1.849101</td><td>0.28169</td><td>-0.041995</td><td>0.448413</td><td>0.094321</td><td>0.215608</td><td>0.409392</td><td>0.597864</td><td>0.872354</td><td>0.691138</td><td>-0.583443</td><td>0.62996</td><td>0.598545</td><td>-0.394268</td><td>0.863757</td><td>0.699074</td><td>0.831349</td><td>1.120336</td><td>0.556217</td><td>-0.686192</td><td>0.141865</td><td>-0.660326</td><td>0.003541</td><td>0.000161</td><td>0.003068</td></tr><tr><td>0</td><td>0</td><td>0</td><td>0</td><td>1</td><td>0</td><td>0</td><td>0</td><td>1</td><td>1.57272</td><td>0.185516</td><td>0.000661</td><td>0.000661</td><td>0.000661</td><td>0.000661</td><td>0.955688</td><td>-0.083356</td><td>-0.573546</td><td>0.225822</td><td>-0.393903</td><td>1.123361</td><td>1.551723</td><td>1.562722</td><td>0.032407</td><td>0.332672</td><td>0.035714</td><td>0.033581</td><td>-0.312364</td><td>0.91369</td><td>0.291997</td><td>1.040514</td><td>0.081349</td><td>0.477513</td><td>0.655741</td><td>0.724206</td><td>0.22619</td><td>0.35582</td><td>&hellip;</td><td>0.212632</td><td>-1.34762</td><td>0.210979</td><td>0.635251</td><td>-1.138198</td><td>-0.494248</td><td>-1.042718</td><td>1.754171</td><td>0.032407</td><td>0.257609</td><td>0.082011</td><td>0.152116</td><td>-0.201611</td><td>0.346373</td><td>0.054032</td><td>0.137566</td><td>0.294305</td><td>0.194444</td><td>0.409392</td><td>0.596528</td><td>0.778439</td><td>0.634921</td><td>-0.483236</td><td>0.669974</td><td>0.603836</td><td>-0.17042</td><td>0.848545</td><td>0.647487</td><td>0.832672</td><td>1.088992</td><td>0.665344</td><td>-0.459367</td><td>0.199405</td><td>-0.510979</td><td>-0.005964</td><td>0.000162</td><td>-0.006437</td></tr><tr><td>0</td><td>0</td><td>0</td><td>0</td><td>1</td><td>0</td><td>0</td><td>0</td><td>1</td><td>1.570266</td><td>0.185185</td><td>0.019841</td><td>0.019841</td><td>0.006614</td><td>0.006614</td><td>0.956019</td><td>-0.083403</td><td>-0.57318</td><td>0.225094</td><td>-0.541646</td><td>1.167982</td><td>1.549272</td><td>1.611215</td><td>0.032077</td><td>0.332341</td><td>0.035384</td><td>0.033998</td><td>-0.312383</td><td>0.914021</td><td>0.267196</td><td>1.091376</td><td>0.085979</td><td>0.477183</td><td>0.648582</td><td>0.728175</td><td>0.230159</td><td>0.351852</td><td>&hellip;</td><td>0.660714</td><td>-1.399411</td><td>0.724868</td><td>0.21627</td><td>-0.230557</td><td>-0.318347</td><td>0.396917</td><td>1.769678</td><td>0.03373</td><td>0.20235</td><td>0.324074</td><td>0.212963</td><td>0.052878</td><td>-0.049023</td><td>0.120828</td><td>0.219577</td><td>0.137942</td><td>0.167328</td><td>0.409392</td><td>0.579726</td><td>0.449735</td><td>0.665344</td><td>-0.546298</td><td>0.590608</td><td>0.558862</td><td>-0.275099</td><td>0.826058</td><td>0.445767</td><td>0.835979</td><td>1.040988</td><td>0.594577</td><td>-0.561643</td><td>0.161706</td><td>-0.575997</td><td>-0.00741</td><td>0.00016</td><td>-0.007882</td></tr><tr><td>0</td><td>0</td><td>0</td><td>0</td><td>0</td><td>0</td><td>1</td><td>0</td><td>1</td><td>1.567818</td><td>0.184854</td><td>0.019511</td><td>0.019511</td><td>0.006283</td><td>0.006283</td><td>0.956349</td><td>-0.083449</td><td>-0.572813</td><td>0.224366</td><td>-0.714549</td><td>1.243713</td><td>1.542543</td><td>1.693604</td><td>0.031746</td><td>0.332011</td><td>0.035053</td><td>0.029586</td><td>-0.301855</td><td>0.914352</td><td>0.260913</td><td>1.011571</td><td>0.093915</td><td>0.476852</td><td>0.638667</td><td>0.729497</td><td>0.238757</td><td>0.353836</td><td>&hellip;</td><td>0.32672</td><td>-1.416282</td><td>0.611442</td><td>0.426257</td><td>0.046472</td><td>-0.262086</td><td>1.304142</td><td>1.785515</td><td>0.039683</td><td>0.230364</td><td>0.583995</td><td>0.445106</td><td>1.378927</td><td>-0.182025</td><td>0.01261</td><td>0.369048</td><td>0.011021</td><td>0.130291</td><td>0.409392</td><td>0.572656</td><td>0.489418</td><td>0.600529</td><td>-0.587258</td><td>0.46131</td><td>0.487434</td><td>-0.39548</td><td>0.80754</td><td>0.707672</td><td>0.839947</td><td>0.944593</td><td>0.715608</td><td>-0.692649</td><td>0.124669</td><td>-0.654045</td><td>0.00542</td><td>0.00016</td><td>0.004949</td></tr><tr><td>0</td><td>0</td><td>0</td><td>0</td><td>0</td><td>0</td><td>0</td><td>0</td><td>0</td><td>1.565379</td><td>0.184524</td><td>0.01918</td><td>0.01918</td><td>0.005952</td><td>0.005952</td><td>0.911376</td><td>-0.083496</td><td>-0.572447</td><td>0.223638</td><td>-0.122314</td><td>1.20925</td><td>1.540116</td><td>1.655174</td><td>0.031415</td><td>0.33168</td><td>0.034722</td><td>0.038269</td><td>-0.301876</td><td>0.914683</td><td>0.27414</td><td>0.984115</td><td>0.080688</td><td>0.476521</td><td>0.597442</td><td>0.718254</td><td>0.238757</td><td>0.351852</td><td>&hellip;</td><td>0.625331</td><td>-1.354498</td><td>0.046296</td><td>0.51455</td><td>0.276769</td><td>-0.261326</td><td>0.811754</td><td>1.784929</td><td>0.039683</td><td>0.249933</td><td>0.273148</td><td>0.134921</td><td>0.634465</td><td>-0.446682</td><td>-0.052686</td><td>0.083995</td><td>0.055282</td><td>0.209656</td><td>0.409392</td><td>0.574661</td><td>0.748677</td><td>0.498677</td><td>-0.616395</td><td>0.561839</td><td>0.53373</td><td>-0.432282</td><td>0.785053</td><td>0.469577</td><td>0.837963</td><td>1.226772</td><td>0.822751</td><td>-0.707361</td><td>0.142857</td><td>-0.649616</td><td>0.008357</td><td>0.000159</td><td>0.007887</td></tr><tr><td>0</td><td>0</td><td>0</td><td>0</td><td>0</td><td>0</td><td>0</td><td>0</td><td>0</td><td>1.562946</td><td>0.184193</td><td>0.018849</td><td>0.018849</td><td>0.005622</td><td>0.005622</td><td>0.911706</td><td>-0.083542</td><td>-0.57208</td><td>0.22291</td><td>-0.732397</td><td>1.225459</td><td>1.537761</td><td>1.672262</td><td>0.031085</td><td>0.331349</td><td>0.034392</td><td>0.038205</td><td>-0.301897</td><td>0.915013</td><td>0.269841</td><td>0.904453</td><td>0.073413</td><td>0.479167</td><td>0.605079</td><td>0.718254</td><td>0.220899</td><td>0.345238</td><td>&hellip;</td><td>0.739418</td><td>-1.384785</td><td>0.232143</td><td>0.379299</td><td>1.19926</td><td>-0.344274</td><td>0.690323</td><td>1.791596</td><td>0.037037</td><td>0.298533</td><td>0.933201</td><td>0.721561</td><td>1.211345</td><td>-0.11805</td><td>-0.249315</td><td>0.566799</td><td>0.10733</td><td>0.228175</td><td>0.409392</td><td>0.580932</td><td>0.37037</td><td>0.528439</td><td>-0.64204</td><td>0.587632</td><td>0.526455</td><td>-0.429506</td><td>0.767857</td><td>0.671958</td><td>0.837963</td><td>0.785877</td><td>0.805556</td><td>-0.715692</td><td>0.196098</td><td>-0.668289</td><td>-0.002896</td><td>0.000159</td><td>-0.003365</td></tr><tr><td>0</td><td>0</td><td>1</td><td>0</td><td>0</td><td>0</td><td>0</td><td>0</td><td>0</td><td>1.56052</td><td>0.183862</td><td>0.018519</td><td>0.018519</td><td>0.005291</td><td>0.005291</td><td>0.912037</td><td>-0.083874</td><td>-0.572016</td><td>0.222211</td><td>-0.800465</td><td>1.247273</td><td>1.534742</td><td>1.695469</td><td>0.030754</td><td>0.331019</td><td>0.034061</td><td>0.038118</td><td>-0.301918</td><td>0.915344</td><td>0.273148</td><td>0.842295</td><td>0.074074</td><td>0.478836</td><td>0.611319</td><td>0.724868</td><td>0.223545</td><td>0.340608</td><td>&hellip;</td><td>0.809193</td><td>-1.420007</td><td>0.849868</td><td>0.375661</td><td>0.429471</td><td>-0.233374</td><td>-0.289766</td><td>1.792816</td><td>0.041005</td><td>0.371362</td><td>0.793651</td><td>0.689815</td><td>0.885178</td><td>-0.316882</td><td>-0.422374</td><td>0.631614</td><td>-0.02977</td><td>0.221892</td><td>0.409392</td><td>0.583556</td><td>0.477513</td><td>0.599206</td><td>-0.638658</td><td>0.394841</td><td>0.433532</td><td>-0.425462</td><td>0.734127</td><td>0.481481</td><td>0.787698</td><td>0.834898</td><td>0.823413</td><td>-0.723949</td><td>0.133929</td><td>-0.670946</td><td>0.002457</td><td>0.000155</td><td>0.00199</td></tr><tr><td>0</td><td>0</td><td>0</td><td>0</td><td>0</td><td>0</td><td>0</td><td>0</td><td>0</td><td>1.558102</td><td>0.183532</td><td>0.018188</td><td>0.018188</td><td>0.00496</td><td>0.00496</td><td>0.912368</td><td>-0.084206</td><td>-0.571952</td><td>0.221513</td><td>-0.596939</td><td>1.271926</td><td>1.53234</td><td>1.721692</td><td>0.030423</td><td>0.330688</td><td>0.03373</td><td>0.037647</td><td>-0.301939</td><td>0.915675</td><td>0.272817</td><td>0.858582</td><td>0.082011</td><td>0.478505</td><td>0.604658</td><td>0.719577</td><td>0.262566</td><td>0.353836</td><td>&hellip;</td><td>0.923611</td><td>-1.431028</td><td>0.303241</td><td>0.068783</td><td>0.044888</td><td>-0.269862</td><td>0.423268</td><td>1.792934</td><td>0.046958</td><td>0.41161</td><td>0.011905</td><td>0.026455</td><td>-0.001785</td><td>-0.317961</td><td>-0.608348</td><td>0.066138</td><td>-0.001594</td><td>0.259921</td><td>0.409392</td><td>0.63009</td><td>0.915344</td><td>0.462302</td><td>-0.626927</td><td>0.326389</td><td>0.39418</td><td>-0.38517</td><td>0.695106</td><td>0.655423</td><td>0.78373</td><td>0.994026</td><td>0.851852</td><td>-0.684937</td><td>0.101852</td><td>-0.646265</td><td>0.002312</td><td>0.000156</td><td>0.001845</td></tr><tr><td>0</td><td>0</td><td>0</td><td>0</td><td>0</td><td>0</td><td>0</td><td>0</td><td>0</td><td>1.55569</td><td>0.183201</td><td>0.017857</td><td>0.017857</td><td>0.00463</td><td>0.00463</td><td>0.912698</td><td>-0.084538</td><td>-0.571888</td><td>0.220814</td><td>-0.747066</td><td>1.312626</td><td>1.529875</td><td>1.765317</td><td>0.030093</td><td>0.330357</td><td>0.033399</td><td>0.037561</td><td>-0.267677</td><td>0.916005</td><td>0.305886</td><td>0.822594</td><td>0.080688</td><td>0.478175</td><td>0.603072</td><td>0.705688</td><td>0.263889</td><td>0.356481</td><td>&hellip;</td><td>0.886243</td><td>-1.469985</td><td>0.553571</td><td>0.244378</td><td>0.306917</td><td>-0.177546</td><td>1.885541</td><td>1.796492</td><td>0.047619</td><td>0.410794</td><td>0.351852</td><td>0.070767</td><td>0.257443</td><td>0.011109</td><td>-0.64248</td><td>0.170635</td><td>-0.105022</td><td>0.354167</td><td>0.409392</td><td>0.629295</td><td>0.771825</td><td>0.318783</td><td>-0.66805</td><td>0.12963</td><td>0.37004</td><td>-0.451308</td><td>0.66336</td><td>0.066799</td><td>0.78373</td><td>1.068037</td><td>0.87963</td><td>-0.764806</td><td>0.079034</td><td>-0.705662</td><td>0.002891</td><td>0.000156</td><td>0.002424</td></tr></tbody></table></div>"
      ],
      "text/plain": [
       "shape: (10, 97)\n",
       "┌─────┬─────┬─────┬─────┬───┬───────────┬─────────────────┬────────────────┬───────────────────────┐\n",
       "│ D1  ┆ D2  ┆ D3  ┆ D4  ┆ … ┆ V9        ┆ forward_returns ┆ risk_free_rate ┆ market_forward_excess │\n",
       "│ --- ┆ --- ┆ --- ┆ --- ┆   ┆ ---       ┆ ---             ┆ ---            ┆ _returns              │\n",
       "│ i64 ┆ i64 ┆ i64 ┆ i64 ┆   ┆ f64       ┆ f64             ┆ f64            ┆ ---                   │\n",
       "│     ┆     ┆     ┆     ┆   ┆           ┆                 ┆                ┆ f64                   │\n",
       "╞═════╪═════╪═════╪═════╪═══╪═══════════╪═════════════════╪════════════════╪═══════════════════════╡\n",
       "│ 0   ┆ 0   ┆ 0   ┆ 0   ┆ … ┆ -0.751909 ┆ 0.0             ┆ 0.0            ┆ 0.0                   │\n",
       "│ 0   ┆ 0   ┆ 0   ┆ 0   ┆ … ┆ -0.660326 ┆ 0.003541        ┆ 0.000161       ┆ 0.003068              │\n",
       "│ 0   ┆ 0   ┆ 0   ┆ 0   ┆ … ┆ -0.510979 ┆ -0.005964       ┆ 0.000162       ┆ -0.006437             │\n",
       "│ 0   ┆ 0   ┆ 0   ┆ 0   ┆ … ┆ -0.575997 ┆ -0.00741        ┆ 0.00016        ┆ -0.007882             │\n",
       "│ 0   ┆ 0   ┆ 0   ┆ 0   ┆ … ┆ -0.654045 ┆ 0.00542         ┆ 0.00016        ┆ 0.004949              │\n",
       "│ 0   ┆ 0   ┆ 0   ┆ 0   ┆ … ┆ -0.649616 ┆ 0.008357        ┆ 0.000159       ┆ 0.007887              │\n",
       "│ 0   ┆ 0   ┆ 0   ┆ 0   ┆ … ┆ -0.668289 ┆ -0.002896       ┆ 0.000159       ┆ -0.003365             │\n",
       "│ 0   ┆ 0   ┆ 1   ┆ 0   ┆ … ┆ -0.670946 ┆ 0.002457        ┆ 0.000155       ┆ 0.00199               │\n",
       "│ 0   ┆ 0   ┆ 0   ┆ 0   ┆ … ┆ -0.646265 ┆ 0.002312        ┆ 0.000156       ┆ 0.001845              │\n",
       "│ 0   ┆ 0   ┆ 0   ┆ 0   ┆ … ┆ -0.705662 ┆ 0.002891        ┆ 0.000156       ┆ 0.002424              │\n",
       "└─────┴─────┴─────┴─────┴───┴───────────┴─────────────────┴────────────────┴───────────────────────┘"
      ]
     },
     "execution_count": 15,
     "metadata": {},
     "output_type": "execute_result"
    }
   ],
   "source": [
    "test_solution = test_inputs.with_columns(\n",
    "    forward_returns=pl.col('lagged_forward_returns').shift(1),\n",
    "    risk_free_rate=pl.col('lagged_risk_free_rate').shift(1),\n",
    "    market_forward_excess_returns=pl.col('lagged_market_forward_excess_returns').shift(1),\n",
    ").drop(['lagged_forward_returns','lagged_risk_free_rate','lagged_market_forward_excess_returns']).fill_null(0)\n",
    "test_solution"
   ]
  },
  {
   "cell_type": "code",
   "execution_count": 16,
   "id": "a27631db",
   "metadata": {},
   "outputs": [
    {
     "name": "stdout",
     "output_type": "stream",
     "text": [
      "\u001b[1m1/1\u001b[0m \u001b[32m━━━━━━━━━━━━━━━━━━━━\u001b[0m\u001b[37m\u001b[0m \u001b[1m1s\u001b[0m 523ms/step\n",
      "WARNING:tensorflow:5 out of the last 5 calls to <function TensorFlowTrainer.make_predict_function.<locals>.one_step_on_data_distributed at 0x7437fed63880> triggered tf.function retracing. Tracing is expensive and the excessive number of tracings could be due to (1) creating @tf.function repeatedly in a loop, (2) passing tensors with different shapes, (3) passing Python objects instead of tensors. For (1), please define your @tf.function outside of the loop. For (2), @tf.function has reduce_retracing=True option that can avoid unnecessary retracing. For (3), please refer to https://www.tensorflow.org/guide/function#controlling_retracing and https://www.tensorflow.org/api_docs/python/tf/function for  more details.\n",
      "\u001b[1m1/1\u001b[0m \u001b[32m━━━━━━━━━━━━━━━━━━━━\u001b[0m\u001b[37m\u001b[0m \u001b[1m1s\u001b[0m 508ms/step\n"
     ]
    },
    {
     "data": {
      "text/plain": [
       "array([[6.237e-03],\n",
       "       [2.720e-01],\n",
       "       [1.880e+00],\n",
       "       [9.975e-04],\n",
       "       [9.990e-01],\n",
       "       [1.404e+00],\n",
       "       [2.939e-01],\n",
       "       [1.525e+00],\n",
       "       [4.792e-01],\n",
       "       [7.764e-02]], dtype=float16)"
      ]
     },
     "execution_count": 16,
     "metadata": {},
     "output_type": "execute_result"
    }
   ],
   "source": [
    "model_names = ['v37', 'v39']\n",
    "models = []\n",
    "for name in model_names: models.append(saving.load_model(f'.models/{name}.keras', compile=False))\n",
    "predictions = models[0].predict(test_inputs) + models[1].predict(test_inputs)\n",
    "predictions"
   ]
  },
  {
   "cell_type": "code",
   "execution_count": 17,
   "id": "24d6fcd7",
   "metadata": {},
   "outputs": [
    {
     "data": {
      "text/html": [
       "<div><style>\n",
       ".dataframe > thead > tr,\n",
       ".dataframe > tbody > tr {\n",
       "  text-align: right;\n",
       "  white-space: pre-wrap;\n",
       "}\n",
       "</style>\n",
       "<small>shape: (10, 1)</small><table border=\"1\" class=\"dataframe\"><thead><tr><th>prediction</th></tr><tr><td>f32</td></tr></thead><tbody><tr><td>0.006237</td></tr><tr><td>0.271973</td></tr><tr><td>1.879883</td></tr><tr><td>0.000998</td></tr><tr><td>0.999023</td></tr><tr><td>1.404297</td></tr><tr><td>0.293945</td></tr><tr><td>1.525391</td></tr><tr><td>0.479248</td></tr><tr><td>0.077637</td></tr></tbody></table></div>"
      ],
      "text/plain": [
       "shape: (10, 1)\n",
       "┌────────────┐\n",
       "│ prediction │\n",
       "│ ---        │\n",
       "│ f32        │\n",
       "╞════════════╡\n",
       "│ 0.006237   │\n",
       "│ 0.271973   │\n",
       "│ 1.879883   │\n",
       "│ 0.000998   │\n",
       "│ 0.999023   │\n",
       "│ 1.404297   │\n",
       "│ 0.293945   │\n",
       "│ 1.525391   │\n",
       "│ 0.479248   │\n",
       "│ 0.077637   │\n",
       "└────────────┘"
      ]
     },
     "execution_count": 17,
     "metadata": {},
     "output_type": "execute_result"
    }
   ],
   "source": [
    "test_submission = pl.DataFrame(predictions, schema=['prediction'])\n",
    "test_submission"
   ]
  },
  {
   "cell_type": "code",
   "execution_count": 18,
   "id": "c243c78a",
   "metadata": {},
   "outputs": [],
   "source": [
    "MIN_INVESTMENT = 0\n",
    "MAX_INVESTMENT = 2\n",
    "\n",
    "def score(solution: pl.DataFrame, submission: pl.DataFrame) -> float:\n",
    "    \"\"\"\n",
    "    Calculates a custom evaluation metric (volatility-adjusted Sharpe ratio).\n",
    "\n",
    "    This metric penalizes strategies that take on significantly more volatility\n",
    "    than the underlying market.\n",
    "\n",
    "    Returns:\n",
    "        float: The calculated adjusted Sharpe ratio.\n",
    "    \"\"\"\n",
    "\n",
    "    if not submission['prediction'].dtype.is_numeric(): raise Exception('Predictions must be numeric')\n",
    "\n",
    "    solution = solution.with_columns(position=submission['prediction'])\n",
    "\n",
    "    pos_max = solution.select(pl.col('position').max()).item()\n",
    "    if pos_max > MAX_INVESTMENT: raise Exception(f'Position of {pos_max} exceeds maximum of {MAX_INVESTMENT}')\n",
    "\n",
    "    pos_min = solution.select(pl.col('position').min()).item()\n",
    "    if pos_min < MIN_INVESTMENT: raise Exception(f'Position of {pos_min} below minimum of {MIN_INVESTMENT}')\n",
    "\n",
    "    solution = solution.with_columns(strategy_returns=pl.col('risk_free_rate') * (1 - pl.col('position')) + pl.col('position') * pl.col('forward_returns'))\n",
    "\n",
    "    n = len(solution)\n",
    "    trading_days_per_yr = 252\n",
    "\n",
    "    # Calculate strategy's Sharpe ratio\n",
    "    strategy_excess_cumulative = solution.select((1 + (pl.col('strategy_returns') - pl.col('risk_free_rate'))).product()).item()\n",
    "    strategy_mean_excess_return = (strategy_excess_cumulative) ** (1 / n) - 1\n",
    "    strategy_std = solution.select(pl.col('strategy_returns').std()).item()\n",
    "    if strategy_std == 0: raise Exception('Division by zero, strategy std is zero')\n",
    "    sharpe = strategy_mean_excess_return / strategy_std * np.sqrt(trading_days_per_yr)\n",
    "    strategy_volatility = float(strategy_std * np.sqrt(trading_days_per_yr) * 100)\n",
    "\n",
    "    # Calculate market return and volatility\n",
    "    market_excess_cumulative = solution.select((1 + (pl.col('forward_returns') - pl.col('risk_free_rate'))).product()).item()\n",
    "    market_mean_excess_return = (market_excess_cumulative) ** (1 / n) - 1\n",
    "    market_std = solution.select(pl.col('forward_returns').std()).item()\n",
    "    market_volatility = float(market_std * np.sqrt(trading_days_per_yr) * 100)\n",
    "    if market_volatility == 0: raise Exception('Division by zero, market std is zero')\n",
    "\n",
    "    # Calculate the volatility penalty\n",
    "    excess_vol = max(0, strategy_volatility / market_volatility - 1.2) if market_volatility > 0 else 0\n",
    "    vol_penalty = 1 + excess_vol\n",
    "\n",
    "    # Calculate the return penalty\n",
    "    return_gap = max(0, (market_mean_excess_return - strategy_mean_excess_return) * 100 * trading_days_per_yr)\n",
    "    return_penalty = 1 + (return_gap**2) / 100\n",
    "\n",
    "    # Adjust the Sharpe ratio by the volatility and return penalty\n",
    "    adjusted_sharpe = sharpe / (vol_penalty * return_penalty)\n",
    "    return min(float(adjusted_sharpe), 1_000_000)"
   ]
  },
  {
   "cell_type": "code",
   "execution_count": 19,
   "id": "1c2e8d38",
   "metadata": {},
   "outputs": [
    {
     "data": {
      "text/plain": [
       "2.7234115258258185"
      ]
     },
     "execution_count": 19,
     "metadata": {},
     "output_type": "execute_result"
    }
   ],
   "source": [
    "score(test_solution, test_submission)"
   ]
  },
  {
   "cell_type": "markdown",
   "id": "14933c7a",
   "metadata": {},
   "source": [
    "it overshoots a bit, but still good enough approximation to score new models outside of official submissions"
   ]
  }
 ],
 "metadata": {
  "kernelspec": {
   "display_name": ".cuda (3.12.3)",
   "language": "python",
   "name": "python3"
  },
  "language_info": {
   "codemirror_mode": {
    "name": "ipython",
    "version": 3
   },
   "file_extension": ".py",
   "mimetype": "text/x-python",
   "name": "python",
   "nbconvert_exporter": "python",
   "pygments_lexer": "ipython3",
   "version": "3.12.3"
  }
 },
 "nbformat": 4,
 "nbformat_minor": 5
}
